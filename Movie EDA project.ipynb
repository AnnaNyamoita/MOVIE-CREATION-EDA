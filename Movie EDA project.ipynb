{
 "cells": [
  {
   "cell_type": "markdown",
   "metadata": {
    "toc": true
   },
   "source": [
    "<h1>Table of Contents<span class=\"tocSkip\"></span></h1>\n",
    "<div class=\"toc\"><ul class=\"toc-item\"><li><span><a href=\"#Importing-libraries-and-loading-the-datasets\" data-toc-modified-id=\"Importing-libraries-and-loading-the-datasets-1\"><span class=\"toc-item-num\">1&nbsp;&nbsp;</span>Importing libraries and loading the datasets</a></span><ul class=\"toc-item\"><li><span><a href=\"#checking-the-components-of-the-datasets\" data-toc-modified-id=\"checking-the-components-of-the-datasets-1.1\"><span class=\"toc-item-num\">1.1&nbsp;&nbsp;</span>checking the components of the datasets</a></span></li></ul></li><li><span><a href=\"#Data-preparation-and-cleaning\" data-toc-modified-id=\"Data-preparation-and-cleaning-2\"><span class=\"toc-item-num\">2&nbsp;&nbsp;</span>Data preparation and cleaning</a></span><ul class=\"toc-item\"><li><span><a href=\"#Joining-data-frames-first-before-starting-data-cleaning\" data-toc-modified-id=\"Joining-data-frames-first-before-starting-data-cleaning-2.1\"><span class=\"toc-item-num\">2.1&nbsp;&nbsp;</span>Joining data frames first before starting data cleaning</a></span><ul class=\"toc-item\"><li><span><a href=\"#data-cleaning-of-the-joined-data-frame\" data-toc-modified-id=\"data-cleaning-of-the-joined-data-frame-2.1.1\"><span class=\"toc-item-num\">2.1.1&nbsp;&nbsp;</span>data cleaning of the joined data frame</a></span></li></ul></li><li><span><a href=\"#joining-the-reviews-df-with-movie_info_df-to-expand-the-data-abit\" data-toc-modified-id=\"joining-the-reviews-df-with-movie_info_df-to-expand-the-data-abit-2.2\"><span class=\"toc-item-num\">2.2&nbsp;&nbsp;</span>joining the reviews df with movie_info_df to expand the data abit</a></span><ul class=\"toc-item\"><li><span><a href=\"#cleaning-the-newly-joined-data-frame\" data-toc-modified-id=\"cleaning-the-newly-joined-data-frame-2.2.1\"><span class=\"toc-item-num\">2.2.1&nbsp;&nbsp;</span>cleaning the newly joined data frame</a></span></li></ul></li></ul></li><li><span><a href=\"#Exploratory-analysis-and-visualization\" data-toc-modified-id=\"Exploratory-analysis-and-visualization-3\"><span class=\"toc-item-num\">3&nbsp;&nbsp;</span>Exploratory analysis and visualization</a></span><ul class=\"toc-item\"><li><span><a href=\"#ANALYSIS-1.Checking-the-most-produced-genres\" data-toc-modified-id=\"ANALYSIS-1.Checking-the-most-produced-genres-3.1\"><span class=\"toc-item-num\">3.1&nbsp;&nbsp;</span>ANALYSIS 1.Checking the most produced genres</a></span></li><li><span><a href=\"#ANALYSIS-2:checking-if-the-most-produced-genres-are-the-most-profitable-genres\" data-toc-modified-id=\"ANALYSIS-2:checking-if-the-most-produced-genres-are-the-most-profitable-genres-3.2\"><span class=\"toc-item-num\">3.2&nbsp;&nbsp;</span>ANALYSIS 2:checking if the most produced genres are the most profitable genres</a></span></li><li><span><a href=\"#ANALYSIS-3:checking-if-more-production-bugdet-translates-to-higher-profit\" data-toc-modified-id=\"ANALYSIS-3:checking-if-more-production-bugdet-translates-to-higher-profit-3.3\"><span class=\"toc-item-num\">3.3&nbsp;&nbsp;</span>ANALYSIS 3:checking if more production bugdet translates to higher profit</a></span></li><li><span><a href=\"#ANALYSIS-4:-checking-for-most-expensive-genres-to-produce\" data-toc-modified-id=\"ANALYSIS-4:-checking-for-most-expensive-genres-to-produce-3.4\"><span class=\"toc-item-num\">3.4&nbsp;&nbsp;</span>ANALYSIS 4: checking for most expensive genres to produce</a></span></li><li><span><a href=\"#ANALYSIS-5:Checking-if-the-runtime-can-affect-the-profit\" data-toc-modified-id=\"ANALYSIS-5:Checking-if-the-runtime-can-affect-the-profit-3.5\"><span class=\"toc-item-num\">3.5&nbsp;&nbsp;</span>ANALYSIS 5:Checking if the runtime can affect the profit</a></span></li><li><span><a href=\"#ANALYSIS-6:-Checking-whether-movie-rating-affect-profit\" data-toc-modified-id=\"ANALYSIS-6:-Checking-whether-movie-rating-affect-profit-3.6\"><span class=\"toc-item-num\">3.6&nbsp;&nbsp;</span>ANALYSIS 6: Checking whether movie rating affect profit</a></span><ul class=\"toc-item\"><li><span><a href=\"#checking-whether-rating-affect-bugdet\" data-toc-modified-id=\"checking-whether-rating-affect-bugdet-3.6.1\"><span class=\"toc-item-num\">3.6.1&nbsp;&nbsp;</span>checking whether rating affect bugdet</a></span></li></ul></li><li><span><a href=\"#ANALYSIS-7:Checking-if-time-of-the-year-movie-is-produced-affects-profit\" data-toc-modified-id=\"ANALYSIS-7:Checking-if-time-of-the-year-movie-is-produced-affects-profit-3.7\"><span class=\"toc-item-num\">3.7&nbsp;&nbsp;</span>ANALYSIS 7:Checking if time of the year movie is produced affects profit</a></span></li></ul></li><li><span><a href=\"#Recommendations\" data-toc-modified-id=\"Recommendations-4\"><span class=\"toc-item-num\">4&nbsp;&nbsp;</span>Recommendations</a></span><ul class=\"toc-item\"><li><span><a href=\"#First-recommendation\" data-toc-modified-id=\"First-recommendation-4.1\"><span class=\"toc-item-num\">4.1&nbsp;&nbsp;</span>First recommendation</a></span></li><li><span><a href=\"#Second-recommendation\" data-toc-modified-id=\"Second-recommendation-4.2\"><span class=\"toc-item-num\">4.2&nbsp;&nbsp;</span>Second recommendation</a></span></li><li><span><a href=\"#Third-recommendation\" data-toc-modified-id=\"Third-recommendation-4.3\"><span class=\"toc-item-num\">4.3&nbsp;&nbsp;</span>Third recommendation</a></span></li><li><span><a href=\"#Important-to-note\" data-toc-modified-id=\"Important-to-note-4.4\"><span class=\"toc-item-num\">4.4&nbsp;&nbsp;</span>Important to note</a></span></li></ul></li></ul></div>"
   ]
  },
  {
   "cell_type": "markdown",
   "metadata": {},
   "source": [
    "# Importing libraries and loading the datasets"
   ]
  },
  {
   "cell_type": "code",
   "execution_count": 2,
   "metadata": {},
   "outputs": [],
   "source": [
    "#importing the libraries that are likely to be used\n",
    "import pandas as pd\n",
    "import seaborn as sns\n",
    "import numpy as np\n",
    "from matplotlib import pyplot as plt\n",
    "%matplotlib inline"
   ]
  },
  {
   "cell_type": "code",
   "execution_count": 3,
   "metadata": {},
   "outputs": [],
   "source": [
    "#loading the datasets into the notebook\n",
    "movie_df=pd.read_csv('tmdb.movies.csv',index_col='Unnamed: 0')\n",
    "gross_df=pd.read_csv('bom.movie_gross.csv')\n",
    "budget_df=pd.read_csv('tn.movie_budgets.csv')\n",
    "reviews_df=pd.read_csv('rt.movie_info.tsv',sep='\\t')"
   ]
  },
  {
   "cell_type": "markdown",
   "metadata": {},
   "source": [
    "looking at the datasets to see what we are working with"
   ]
  },
  {
   "cell_type": "code",
   "execution_count": 4,
   "metadata": {},
   "outputs": [
    {
     "data": {
      "text/html": [
       "<div>\n",
       "<style scoped>\n",
       "    .dataframe tbody tr th:only-of-type {\n",
       "        vertical-align: middle;\n",
       "    }\n",
       "\n",
       "    .dataframe tbody tr th {\n",
       "        vertical-align: top;\n",
       "    }\n",
       "\n",
       "    .dataframe thead th {\n",
       "        text-align: right;\n",
       "    }\n",
       "</style>\n",
       "<table border=\"1\" class=\"dataframe\">\n",
       "  <thead>\n",
       "    <tr style=\"text-align: right;\">\n",
       "      <th></th>\n",
       "      <th>genre_ids</th>\n",
       "      <th>id</th>\n",
       "      <th>original_language</th>\n",
       "      <th>original_title</th>\n",
       "      <th>popularity</th>\n",
       "      <th>release_date</th>\n",
       "      <th>title</th>\n",
       "      <th>vote_average</th>\n",
       "      <th>vote_count</th>\n",
       "    </tr>\n",
       "  </thead>\n",
       "  <tbody>\n",
       "    <tr>\n",
       "      <th>0</th>\n",
       "      <td>[12, 14, 10751]</td>\n",
       "      <td>12444</td>\n",
       "      <td>en</td>\n",
       "      <td>Harry Potter and the Deathly Hallows: Part 1</td>\n",
       "      <td>33.533</td>\n",
       "      <td>2010-11-19</td>\n",
       "      <td>Harry Potter and the Deathly Hallows: Part 1</td>\n",
       "      <td>7.7</td>\n",
       "      <td>10788</td>\n",
       "    </tr>\n",
       "    <tr>\n",
       "      <th>1</th>\n",
       "      <td>[14, 12, 16, 10751]</td>\n",
       "      <td>10191</td>\n",
       "      <td>en</td>\n",
       "      <td>How to Train Your Dragon</td>\n",
       "      <td>28.734</td>\n",
       "      <td>2010-03-26</td>\n",
       "      <td>How to Train Your Dragon</td>\n",
       "      <td>7.7</td>\n",
       "      <td>7610</td>\n",
       "    </tr>\n",
       "    <tr>\n",
       "      <th>2</th>\n",
       "      <td>[12, 28, 878]</td>\n",
       "      <td>10138</td>\n",
       "      <td>en</td>\n",
       "      <td>Iron Man 2</td>\n",
       "      <td>28.515</td>\n",
       "      <td>2010-05-07</td>\n",
       "      <td>Iron Man 2</td>\n",
       "      <td>6.8</td>\n",
       "      <td>12368</td>\n",
       "    </tr>\n",
       "    <tr>\n",
       "      <th>3</th>\n",
       "      <td>[16, 35, 10751]</td>\n",
       "      <td>862</td>\n",
       "      <td>en</td>\n",
       "      <td>Toy Story</td>\n",
       "      <td>28.005</td>\n",
       "      <td>1995-11-22</td>\n",
       "      <td>Toy Story</td>\n",
       "      <td>7.9</td>\n",
       "      <td>10174</td>\n",
       "    </tr>\n",
       "    <tr>\n",
       "      <th>4</th>\n",
       "      <td>[28, 878, 12]</td>\n",
       "      <td>27205</td>\n",
       "      <td>en</td>\n",
       "      <td>Inception</td>\n",
       "      <td>27.920</td>\n",
       "      <td>2010-07-16</td>\n",
       "      <td>Inception</td>\n",
       "      <td>8.3</td>\n",
       "      <td>22186</td>\n",
       "    </tr>\n",
       "  </tbody>\n",
       "</table>\n",
       "</div>"
      ],
      "text/plain": [
       "             genre_ids     id original_language  \\\n",
       "0      [12, 14, 10751]  12444                en   \n",
       "1  [14, 12, 16, 10751]  10191                en   \n",
       "2        [12, 28, 878]  10138                en   \n",
       "3      [16, 35, 10751]    862                en   \n",
       "4        [28, 878, 12]  27205                en   \n",
       "\n",
       "                                 original_title  popularity release_date  \\\n",
       "0  Harry Potter and the Deathly Hallows: Part 1      33.533   2010-11-19   \n",
       "1                      How to Train Your Dragon      28.734   2010-03-26   \n",
       "2                                    Iron Man 2      28.515   2010-05-07   \n",
       "3                                     Toy Story      28.005   1995-11-22   \n",
       "4                                     Inception      27.920   2010-07-16   \n",
       "\n",
       "                                          title  vote_average  vote_count  \n",
       "0  Harry Potter and the Deathly Hallows: Part 1           7.7       10788  \n",
       "1                      How to Train Your Dragon           7.7        7610  \n",
       "2                                    Iron Man 2           6.8       12368  \n",
       "3                                     Toy Story           7.9       10174  \n",
       "4                                     Inception           8.3       22186  "
      ]
     },
     "execution_count": 4,
     "metadata": {},
     "output_type": "execute_result"
    }
   ],
   "source": [
    "movie_df.head()"
   ]
  },
  {
   "cell_type": "code",
   "execution_count": 5,
   "metadata": {},
   "outputs": [
    {
     "data": {
      "text/html": [
       "<div>\n",
       "<style scoped>\n",
       "    .dataframe tbody tr th:only-of-type {\n",
       "        vertical-align: middle;\n",
       "    }\n",
       "\n",
       "    .dataframe tbody tr th {\n",
       "        vertical-align: top;\n",
       "    }\n",
       "\n",
       "    .dataframe thead th {\n",
       "        text-align: right;\n",
       "    }\n",
       "</style>\n",
       "<table border=\"1\" class=\"dataframe\">\n",
       "  <thead>\n",
       "    <tr style=\"text-align: right;\">\n",
       "      <th></th>\n",
       "      <th>title</th>\n",
       "      <th>studio</th>\n",
       "      <th>domestic_gross</th>\n",
       "      <th>foreign_gross</th>\n",
       "      <th>year</th>\n",
       "    </tr>\n",
       "  </thead>\n",
       "  <tbody>\n",
       "    <tr>\n",
       "      <th>0</th>\n",
       "      <td>Toy Story 3</td>\n",
       "      <td>BV</td>\n",
       "      <td>415000000.0</td>\n",
       "      <td>652000000</td>\n",
       "      <td>2010</td>\n",
       "    </tr>\n",
       "    <tr>\n",
       "      <th>1</th>\n",
       "      <td>Alice in Wonderland (2010)</td>\n",
       "      <td>BV</td>\n",
       "      <td>334200000.0</td>\n",
       "      <td>691300000</td>\n",
       "      <td>2010</td>\n",
       "    </tr>\n",
       "    <tr>\n",
       "      <th>2</th>\n",
       "      <td>Harry Potter and the Deathly Hallows Part 1</td>\n",
       "      <td>WB</td>\n",
       "      <td>296000000.0</td>\n",
       "      <td>664300000</td>\n",
       "      <td>2010</td>\n",
       "    </tr>\n",
       "    <tr>\n",
       "      <th>3</th>\n",
       "      <td>Inception</td>\n",
       "      <td>WB</td>\n",
       "      <td>292600000.0</td>\n",
       "      <td>535700000</td>\n",
       "      <td>2010</td>\n",
       "    </tr>\n",
       "    <tr>\n",
       "      <th>4</th>\n",
       "      <td>Shrek Forever After</td>\n",
       "      <td>P/DW</td>\n",
       "      <td>238700000.0</td>\n",
       "      <td>513900000</td>\n",
       "      <td>2010</td>\n",
       "    </tr>\n",
       "  </tbody>\n",
       "</table>\n",
       "</div>"
      ],
      "text/plain": [
       "                                         title studio  domestic_gross  \\\n",
       "0                                  Toy Story 3     BV     415000000.0   \n",
       "1                   Alice in Wonderland (2010)     BV     334200000.0   \n",
       "2  Harry Potter and the Deathly Hallows Part 1     WB     296000000.0   \n",
       "3                                    Inception     WB     292600000.0   \n",
       "4                          Shrek Forever After   P/DW     238700000.0   \n",
       "\n",
       "  foreign_gross  year  \n",
       "0     652000000  2010  \n",
       "1     691300000  2010  \n",
       "2     664300000  2010  \n",
       "3     535700000  2010  \n",
       "4     513900000  2010  "
      ]
     },
     "execution_count": 5,
     "metadata": {},
     "output_type": "execute_result"
    }
   ],
   "source": [
    "gross_df.head()"
   ]
  },
  {
   "cell_type": "code",
   "execution_count": 6,
   "metadata": {},
   "outputs": [
    {
     "data": {
      "text/html": [
       "<div>\n",
       "<style scoped>\n",
       "    .dataframe tbody tr th:only-of-type {\n",
       "        vertical-align: middle;\n",
       "    }\n",
       "\n",
       "    .dataframe tbody tr th {\n",
       "        vertical-align: top;\n",
       "    }\n",
       "\n",
       "    .dataframe thead th {\n",
       "        text-align: right;\n",
       "    }\n",
       "</style>\n",
       "<table border=\"1\" class=\"dataframe\">\n",
       "  <thead>\n",
       "    <tr style=\"text-align: right;\">\n",
       "      <th></th>\n",
       "      <th>id</th>\n",
       "      <th>release_date</th>\n",
       "      <th>movie</th>\n",
       "      <th>production_budget</th>\n",
       "      <th>domestic_gross</th>\n",
       "      <th>worldwide_gross</th>\n",
       "    </tr>\n",
       "  </thead>\n",
       "  <tbody>\n",
       "    <tr>\n",
       "      <th>5777</th>\n",
       "      <td>78</td>\n",
       "      <td>Dec 31, 2018</td>\n",
       "      <td>Red 11</td>\n",
       "      <td>$7,000</td>\n",
       "      <td>$0</td>\n",
       "      <td>$0</td>\n",
       "    </tr>\n",
       "    <tr>\n",
       "      <th>5778</th>\n",
       "      <td>79</td>\n",
       "      <td>Apr 2, 1999</td>\n",
       "      <td>Following</td>\n",
       "      <td>$6,000</td>\n",
       "      <td>$48,482</td>\n",
       "      <td>$240,495</td>\n",
       "    </tr>\n",
       "    <tr>\n",
       "      <th>5779</th>\n",
       "      <td>80</td>\n",
       "      <td>Jul 13, 2005</td>\n",
       "      <td>Return to the Land of Wonders</td>\n",
       "      <td>$5,000</td>\n",
       "      <td>$1,338</td>\n",
       "      <td>$1,338</td>\n",
       "    </tr>\n",
       "    <tr>\n",
       "      <th>5780</th>\n",
       "      <td>81</td>\n",
       "      <td>Sep 29, 2015</td>\n",
       "      <td>A Plague So Pleasant</td>\n",
       "      <td>$1,400</td>\n",
       "      <td>$0</td>\n",
       "      <td>$0</td>\n",
       "    </tr>\n",
       "    <tr>\n",
       "      <th>5781</th>\n",
       "      <td>82</td>\n",
       "      <td>Aug 5, 2005</td>\n",
       "      <td>My Date With Drew</td>\n",
       "      <td>$1,100</td>\n",
       "      <td>$181,041</td>\n",
       "      <td>$181,041</td>\n",
       "    </tr>\n",
       "  </tbody>\n",
       "</table>\n",
       "</div>"
      ],
      "text/plain": [
       "      id  release_date                          movie production_budget  \\\n",
       "5777  78  Dec 31, 2018                         Red 11            $7,000   \n",
       "5778  79   Apr 2, 1999                      Following            $6,000   \n",
       "5779  80  Jul 13, 2005  Return to the Land of Wonders            $5,000   \n",
       "5780  81  Sep 29, 2015           A Plague So Pleasant            $1,400   \n",
       "5781  82   Aug 5, 2005              My Date With Drew            $1,100   \n",
       "\n",
       "     domestic_gross worldwide_gross  \n",
       "5777             $0              $0  \n",
       "5778        $48,482        $240,495  \n",
       "5779         $1,338          $1,338  \n",
       "5780             $0              $0  \n",
       "5781       $181,041        $181,041  "
      ]
     },
     "execution_count": 6,
     "metadata": {},
     "output_type": "execute_result"
    }
   ],
   "source": [
    "budget_df.tail()"
   ]
  },
  {
   "cell_type": "code",
   "execution_count": 7,
   "metadata": {},
   "outputs": [
    {
     "data": {
      "text/html": [
       "<div>\n",
       "<style scoped>\n",
       "    .dataframe tbody tr th:only-of-type {\n",
       "        vertical-align: middle;\n",
       "    }\n",
       "\n",
       "    .dataframe tbody tr th {\n",
       "        vertical-align: top;\n",
       "    }\n",
       "\n",
       "    .dataframe thead th {\n",
       "        text-align: right;\n",
       "    }\n",
       "</style>\n",
       "<table border=\"1\" class=\"dataframe\">\n",
       "  <thead>\n",
       "    <tr style=\"text-align: right;\">\n",
       "      <th></th>\n",
       "      <th>id</th>\n",
       "      <th>synopsis</th>\n",
       "      <th>rating</th>\n",
       "      <th>genre</th>\n",
       "      <th>director</th>\n",
       "      <th>writer</th>\n",
       "      <th>theater_date</th>\n",
       "      <th>dvd_date</th>\n",
       "      <th>currency</th>\n",
       "      <th>box_office</th>\n",
       "      <th>runtime</th>\n",
       "      <th>studio</th>\n",
       "    </tr>\n",
       "  </thead>\n",
       "  <tbody>\n",
       "    <tr>\n",
       "      <th>1555</th>\n",
       "      <td>1996</td>\n",
       "      <td>Forget terrorists or hijackers -- there's a ha...</td>\n",
       "      <td>R</td>\n",
       "      <td>Action and Adventure|Horror|Mystery and Suspense</td>\n",
       "      <td>NaN</td>\n",
       "      <td>NaN</td>\n",
       "      <td>Aug 18, 2006</td>\n",
       "      <td>Jan 2, 2007</td>\n",
       "      <td>$</td>\n",
       "      <td>33,886,034</td>\n",
       "      <td>106 minutes</td>\n",
       "      <td>New Line Cinema</td>\n",
       "    </tr>\n",
       "    <tr>\n",
       "      <th>1556</th>\n",
       "      <td>1997</td>\n",
       "      <td>The popular Saturday Night Live sketch was exp...</td>\n",
       "      <td>PG</td>\n",
       "      <td>Comedy|Science Fiction and Fantasy</td>\n",
       "      <td>Steve Barron</td>\n",
       "      <td>Terry Turner|Tom Davis|Dan Aykroyd|Bonnie Turner</td>\n",
       "      <td>Jul 23, 1993</td>\n",
       "      <td>Apr 17, 2001</td>\n",
       "      <td>NaN</td>\n",
       "      <td>NaN</td>\n",
       "      <td>88 minutes</td>\n",
       "      <td>Paramount Vantage</td>\n",
       "    </tr>\n",
       "    <tr>\n",
       "      <th>1557</th>\n",
       "      <td>1998</td>\n",
       "      <td>Based on a novel by Richard Powell, when the l...</td>\n",
       "      <td>G</td>\n",
       "      <td>Classics|Comedy|Drama|Musical and Performing Arts</td>\n",
       "      <td>Gordon Douglas</td>\n",
       "      <td>NaN</td>\n",
       "      <td>Jan 1, 1962</td>\n",
       "      <td>May 11, 2004</td>\n",
       "      <td>NaN</td>\n",
       "      <td>NaN</td>\n",
       "      <td>111 minutes</td>\n",
       "      <td>NaN</td>\n",
       "    </tr>\n",
       "    <tr>\n",
       "      <th>1558</th>\n",
       "      <td>1999</td>\n",
       "      <td>The Sandlot is a coming-of-age story about a g...</td>\n",
       "      <td>PG</td>\n",
       "      <td>Comedy|Drama|Kids and Family|Sports and Fitness</td>\n",
       "      <td>David Mickey Evans</td>\n",
       "      <td>David Mickey Evans|Robert Gunter</td>\n",
       "      <td>Apr 1, 1993</td>\n",
       "      <td>Jan 29, 2002</td>\n",
       "      <td>NaN</td>\n",
       "      <td>NaN</td>\n",
       "      <td>101 minutes</td>\n",
       "      <td>NaN</td>\n",
       "    </tr>\n",
       "    <tr>\n",
       "      <th>1559</th>\n",
       "      <td>2000</td>\n",
       "      <td>Suspended from the force, Paris cop Hubert is ...</td>\n",
       "      <td>R</td>\n",
       "      <td>Action and Adventure|Art House and Internation...</td>\n",
       "      <td>NaN</td>\n",
       "      <td>Luc Besson</td>\n",
       "      <td>Sep 27, 2001</td>\n",
       "      <td>Feb 11, 2003</td>\n",
       "      <td>NaN</td>\n",
       "      <td>NaN</td>\n",
       "      <td>94 minutes</td>\n",
       "      <td>Columbia Pictures</td>\n",
       "    </tr>\n",
       "  </tbody>\n",
       "</table>\n",
       "</div>"
      ],
      "text/plain": [
       "        id                                           synopsis rating  \\\n",
       "1555  1996  Forget terrorists or hijackers -- there's a ha...      R   \n",
       "1556  1997  The popular Saturday Night Live sketch was exp...     PG   \n",
       "1557  1998  Based on a novel by Richard Powell, when the l...      G   \n",
       "1558  1999  The Sandlot is a coming-of-age story about a g...     PG   \n",
       "1559  2000  Suspended from the force, Paris cop Hubert is ...      R   \n",
       "\n",
       "                                                  genre            director  \\\n",
       "1555   Action and Adventure|Horror|Mystery and Suspense                 NaN   \n",
       "1556                 Comedy|Science Fiction and Fantasy        Steve Barron   \n",
       "1557  Classics|Comedy|Drama|Musical and Performing Arts      Gordon Douglas   \n",
       "1558    Comedy|Drama|Kids and Family|Sports and Fitness  David Mickey Evans   \n",
       "1559  Action and Adventure|Art House and Internation...                 NaN   \n",
       "\n",
       "                                                writer  theater_date  \\\n",
       "1555                                               NaN  Aug 18, 2006   \n",
       "1556  Terry Turner|Tom Davis|Dan Aykroyd|Bonnie Turner  Jul 23, 1993   \n",
       "1557                                               NaN   Jan 1, 1962   \n",
       "1558                  David Mickey Evans|Robert Gunter   Apr 1, 1993   \n",
       "1559                                        Luc Besson  Sep 27, 2001   \n",
       "\n",
       "          dvd_date currency  box_office      runtime             studio  \n",
       "1555   Jan 2, 2007        $  33,886,034  106 minutes    New Line Cinema  \n",
       "1556  Apr 17, 2001      NaN         NaN   88 minutes  Paramount Vantage  \n",
       "1557  May 11, 2004      NaN         NaN  111 minutes                NaN  \n",
       "1558  Jan 29, 2002      NaN         NaN  101 minutes                NaN  \n",
       "1559  Feb 11, 2003      NaN         NaN   94 minutes  Columbia Pictures  "
      ]
     },
     "execution_count": 7,
     "metadata": {},
     "output_type": "execute_result"
    }
   ],
   "source": [
    "reviews_df.tail()"
   ]
  },
  {
   "cell_type": "markdown",
   "metadata": {},
   "source": [
    "##  checking the components of the datasets"
   ]
  },
  {
   "cell_type": "code",
   "execution_count": 8,
   "metadata": {},
   "outputs": [
    {
     "name": "stdout",
     "output_type": "stream",
     "text": [
      "<class 'pandas.core.frame.DataFrame'>\n",
      "Int64Index: 26517 entries, 0 to 26516\n",
      "Data columns (total 9 columns):\n",
      " #   Column             Non-Null Count  Dtype  \n",
      "---  ------             --------------  -----  \n",
      " 0   genre_ids          26517 non-null  object \n",
      " 1   id                 26517 non-null  int64  \n",
      " 2   original_language  26517 non-null  object \n",
      " 3   original_title     26517 non-null  object \n",
      " 4   popularity         26517 non-null  float64\n",
      " 5   release_date       26517 non-null  object \n",
      " 6   title              26517 non-null  object \n",
      " 7   vote_average       26517 non-null  float64\n",
      " 8   vote_count         26517 non-null  int64  \n",
      "dtypes: float64(2), int64(2), object(5)\n",
      "memory usage: 2.0+ MB\n"
     ]
    }
   ],
   "source": [
    "#checking the number of columns,the data types and null values\n",
    "movie_df.info()"
   ]
  },
  {
   "cell_type": "code",
   "execution_count": 9,
   "metadata": {},
   "outputs": [
    {
     "data": {
      "text/plain": [
       "(26517, 9)"
      ]
     },
     "execution_count": 9,
     "metadata": {},
     "output_type": "execute_result"
    }
   ],
   "source": [
    "#checking the number of rows and columns just to know what we are working with\n",
    "movie_df.shape"
   ]
  },
  {
   "cell_type": "code",
   "execution_count": 10,
   "metadata": {},
   "outputs": [
    {
     "name": "stdout",
     "output_type": "stream",
     "text": [
      "<class 'pandas.core.frame.DataFrame'>\n",
      "RangeIndex: 3387 entries, 0 to 3386\n",
      "Data columns (total 5 columns):\n",
      " #   Column          Non-Null Count  Dtype  \n",
      "---  ------          --------------  -----  \n",
      " 0   title           3387 non-null   object \n",
      " 1   studio          3382 non-null   object \n",
      " 2   domestic_gross  3359 non-null   float64\n",
      " 3   foreign_gross   2037 non-null   object \n",
      " 4   year            3387 non-null   int64  \n",
      "dtypes: float64(1), int64(1), object(3)\n",
      "memory usage: 132.4+ KB\n"
     ]
    }
   ],
   "source": [
    "gross_df.info()"
   ]
  },
  {
   "cell_type": "code",
   "execution_count": 11,
   "metadata": {},
   "outputs": [
    {
     "data": {
      "text/plain": [
       "(3387, 5)"
      ]
     },
     "execution_count": 11,
     "metadata": {},
     "output_type": "execute_result"
    }
   ],
   "source": [
    "gross_df.shape"
   ]
  },
  {
   "cell_type": "code",
   "execution_count": 12,
   "metadata": {},
   "outputs": [
    {
     "name": "stdout",
     "output_type": "stream",
     "text": [
      "<class 'pandas.core.frame.DataFrame'>\n",
      "RangeIndex: 5782 entries, 0 to 5781\n",
      "Data columns (total 6 columns):\n",
      " #   Column             Non-Null Count  Dtype \n",
      "---  ------             --------------  ----- \n",
      " 0   id                 5782 non-null   int64 \n",
      " 1   release_date       5782 non-null   object\n",
      " 2   movie              5782 non-null   object\n",
      " 3   production_budget  5782 non-null   object\n",
      " 4   domestic_gross     5782 non-null   object\n",
      " 5   worldwide_gross    5782 non-null   object\n",
      "dtypes: int64(1), object(5)\n",
      "memory usage: 271.2+ KB\n"
     ]
    }
   ],
   "source": [
    "#cleaning up the data\n",
    "budget_df.info()"
   ]
  },
  {
   "cell_type": "code",
   "execution_count": 13,
   "metadata": {},
   "outputs": [
    {
     "data": {
      "text/plain": [
       "(5782, 6)"
      ]
     },
     "execution_count": 13,
     "metadata": {},
     "output_type": "execute_result"
    }
   ],
   "source": [
    "budget_df.shape"
   ]
  },
  {
   "cell_type": "code",
   "execution_count": 14,
   "metadata": {},
   "outputs": [
    {
     "name": "stdout",
     "output_type": "stream",
     "text": [
      "<class 'pandas.core.frame.DataFrame'>\n",
      "RangeIndex: 1560 entries, 0 to 1559\n",
      "Data columns (total 12 columns):\n",
      " #   Column        Non-Null Count  Dtype \n",
      "---  ------        --------------  ----- \n",
      " 0   id            1560 non-null   int64 \n",
      " 1   synopsis      1498 non-null   object\n",
      " 2   rating        1557 non-null   object\n",
      " 3   genre         1552 non-null   object\n",
      " 4   director      1361 non-null   object\n",
      " 5   writer        1111 non-null   object\n",
      " 6   theater_date  1201 non-null   object\n",
      " 7   dvd_date      1201 non-null   object\n",
      " 8   currency      340 non-null    object\n",
      " 9   box_office    340 non-null    object\n",
      " 10  runtime       1530 non-null   object\n",
      " 11  studio        494 non-null    object\n",
      "dtypes: int64(1), object(11)\n",
      "memory usage: 146.4+ KB\n"
     ]
    }
   ],
   "source": [
    "reviews_df.info()"
   ]
  },
  {
   "cell_type": "code",
   "execution_count": 15,
   "metadata": {},
   "outputs": [
    {
     "data": {
      "text/plain": [
       "(1560, 12)"
      ]
     },
     "execution_count": 15,
     "metadata": {},
     "output_type": "execute_result"
    }
   ],
   "source": [
    "reviews_df.shape"
   ]
  },
  {
   "cell_type": "markdown",
   "metadata": {},
   "source": [
    "# Data preparation and cleaning"
   ]
  },
  {
   "cell_type": "markdown",
   "metadata": {},
   "source": [
    "## Joining data frames first before starting data cleaning"
   ]
  },
  {
   "cell_type": "code",
   "execution_count": 16,
   "metadata": {},
   "outputs": [],
   "source": [
    "#joining movie_df and gross_df\n",
    "movie_gross_df=pd.merge(movie_df,gross_df)"
   ]
  },
  {
   "cell_type": "code",
   "execution_count": 17,
   "metadata": {},
   "outputs": [
    {
     "name": "stdout",
     "output_type": "stream",
     "text": [
      "<class 'pandas.core.frame.DataFrame'>\n",
      "Int64Index: 2703 entries, 0 to 2702\n",
      "Data columns (total 13 columns):\n",
      " #   Column             Non-Null Count  Dtype  \n",
      "---  ------             --------------  -----  \n",
      " 0   genre_ids          2703 non-null   object \n",
      " 1   id                 2703 non-null   int64  \n",
      " 2   original_language  2703 non-null   object \n",
      " 3   original_title     2703 non-null   object \n",
      " 4   popularity         2703 non-null   float64\n",
      " 5   release_date       2703 non-null   object \n",
      " 6   title              2703 non-null   object \n",
      " 7   vote_average       2703 non-null   float64\n",
      " 8   vote_count         2703 non-null   int64  \n",
      " 9   studio             2702 non-null   object \n",
      " 10  domestic_gross     2682 non-null   float64\n",
      " 11  foreign_gross      1723 non-null   object \n",
      " 12  year               2703 non-null   int64  \n",
      "dtypes: float64(3), int64(3), object(7)\n",
      "memory usage: 295.6+ KB\n"
     ]
    }
   ],
   "source": [
    "#looking at the columns and the data types of this new data frame\n",
    "movie_gross_df.info()\n"
   ]
  },
  {
   "cell_type": "code",
   "execution_count": 18,
   "metadata": {},
   "outputs": [
    {
     "data": {
      "text/html": [
       "<div>\n",
       "<style scoped>\n",
       "    .dataframe tbody tr th:only-of-type {\n",
       "        vertical-align: middle;\n",
       "    }\n",
       "\n",
       "    .dataframe tbody tr th {\n",
       "        vertical-align: top;\n",
       "    }\n",
       "\n",
       "    .dataframe thead th {\n",
       "        text-align: right;\n",
       "    }\n",
       "</style>\n",
       "<table border=\"1\" class=\"dataframe\">\n",
       "  <thead>\n",
       "    <tr style=\"text-align: right;\">\n",
       "      <th></th>\n",
       "      <th>genre_ids</th>\n",
       "      <th>id</th>\n",
       "      <th>original_language</th>\n",
       "      <th>original_title</th>\n",
       "      <th>popularity</th>\n",
       "      <th>release_date</th>\n",
       "      <th>title</th>\n",
       "      <th>vote_average</th>\n",
       "      <th>vote_count</th>\n",
       "      <th>studio</th>\n",
       "      <th>domestic_gross</th>\n",
       "      <th>foreign_gross</th>\n",
       "      <th>year</th>\n",
       "    </tr>\n",
       "  </thead>\n",
       "  <tbody>\n",
       "    <tr>\n",
       "      <th>0</th>\n",
       "      <td>[14, 12, 16, 10751]</td>\n",
       "      <td>10191</td>\n",
       "      <td>en</td>\n",
       "      <td>How to Train Your Dragon</td>\n",
       "      <td>28.734</td>\n",
       "      <td>2010-03-26</td>\n",
       "      <td>How to Train Your Dragon</td>\n",
       "      <td>7.7</td>\n",
       "      <td>7610</td>\n",
       "      <td>P/DW</td>\n",
       "      <td>217600000.0</td>\n",
       "      <td>277300000</td>\n",
       "      <td>2010</td>\n",
       "    </tr>\n",
       "    <tr>\n",
       "      <th>1</th>\n",
       "      <td>[12, 28, 878]</td>\n",
       "      <td>10138</td>\n",
       "      <td>en</td>\n",
       "      <td>Iron Man 2</td>\n",
       "      <td>28.515</td>\n",
       "      <td>2010-05-07</td>\n",
       "      <td>Iron Man 2</td>\n",
       "      <td>6.8</td>\n",
       "      <td>12368</td>\n",
       "      <td>Par.</td>\n",
       "      <td>312400000.0</td>\n",
       "      <td>311500000</td>\n",
       "      <td>2010</td>\n",
       "    </tr>\n",
       "    <tr>\n",
       "      <th>2</th>\n",
       "      <td>[28, 878, 12]</td>\n",
       "      <td>27205</td>\n",
       "      <td>en</td>\n",
       "      <td>Inception</td>\n",
       "      <td>27.920</td>\n",
       "      <td>2010-07-16</td>\n",
       "      <td>Inception</td>\n",
       "      <td>8.3</td>\n",
       "      <td>22186</td>\n",
       "      <td>WB</td>\n",
       "      <td>292600000.0</td>\n",
       "      <td>535700000</td>\n",
       "      <td>2010</td>\n",
       "    </tr>\n",
       "    <tr>\n",
       "      <th>3</th>\n",
       "      <td>[16, 10751, 35]</td>\n",
       "      <td>10193</td>\n",
       "      <td>en</td>\n",
       "      <td>Toy Story 3</td>\n",
       "      <td>24.445</td>\n",
       "      <td>2010-06-17</td>\n",
       "      <td>Toy Story 3</td>\n",
       "      <td>7.7</td>\n",
       "      <td>8340</td>\n",
       "      <td>BV</td>\n",
       "      <td>415000000.0</td>\n",
       "      <td>652000000</td>\n",
       "      <td>2010</td>\n",
       "    </tr>\n",
       "    <tr>\n",
       "      <th>4</th>\n",
       "      <td>[16, 10751, 35]</td>\n",
       "      <td>20352</td>\n",
       "      <td>en</td>\n",
       "      <td>Despicable Me</td>\n",
       "      <td>23.673</td>\n",
       "      <td>2010-07-09</td>\n",
       "      <td>Despicable Me</td>\n",
       "      <td>7.2</td>\n",
       "      <td>10057</td>\n",
       "      <td>Uni.</td>\n",
       "      <td>251500000.0</td>\n",
       "      <td>291600000</td>\n",
       "      <td>2010</td>\n",
       "    </tr>\n",
       "  </tbody>\n",
       "</table>\n",
       "</div>"
      ],
      "text/plain": [
       "             genre_ids     id original_language            original_title  \\\n",
       "0  [14, 12, 16, 10751]  10191                en  How to Train Your Dragon   \n",
       "1        [12, 28, 878]  10138                en                Iron Man 2   \n",
       "2        [28, 878, 12]  27205                en                 Inception   \n",
       "3      [16, 10751, 35]  10193                en               Toy Story 3   \n",
       "4      [16, 10751, 35]  20352                en             Despicable Me   \n",
       "\n",
       "   popularity release_date                     title  vote_average  \\\n",
       "0      28.734   2010-03-26  How to Train Your Dragon           7.7   \n",
       "1      28.515   2010-05-07                Iron Man 2           6.8   \n",
       "2      27.920   2010-07-16                 Inception           8.3   \n",
       "3      24.445   2010-06-17               Toy Story 3           7.7   \n",
       "4      23.673   2010-07-09             Despicable Me           7.2   \n",
       "\n",
       "   vote_count studio  domestic_gross foreign_gross  year  \n",
       "0        7610   P/DW     217600000.0     277300000  2010  \n",
       "1       12368   Par.     312400000.0     311500000  2010  \n",
       "2       22186     WB     292600000.0     535700000  2010  \n",
       "3        8340     BV     415000000.0     652000000  2010  \n",
       "4       10057   Uni.     251500000.0     291600000  2010  "
      ]
     },
     "execution_count": 18,
     "metadata": {},
     "output_type": "execute_result"
    }
   ],
   "source": [
    "#checking the first 5 rows of movie_gross_df\n",
    "movie_gross_df.head()"
   ]
  },
  {
   "cell_type": "markdown",
   "metadata": {},
   "source": [
    "### data cleaning of the joined data frame"
   ]
  },
  {
   "cell_type": "code",
   "execution_count": 19,
   "metadata": {},
   "outputs": [],
   "source": [
    "#now renaming the movie column in budget df so its easier to merge and the reason i am merging is cause \n",
    "#it will be easier to analyse\n",
    "budget_df.rename(columns={'movie':'title'},inplace=True)"
   ]
  },
  {
   "cell_type": "code",
   "execution_count": 20,
   "metadata": {},
   "outputs": [
    {
     "data": {
      "text/html": [
       "<div>\n",
       "<style scoped>\n",
       "    .dataframe tbody tr th:only-of-type {\n",
       "        vertical-align: middle;\n",
       "    }\n",
       "\n",
       "    .dataframe tbody tr th {\n",
       "        vertical-align: top;\n",
       "    }\n",
       "\n",
       "    .dataframe thead th {\n",
       "        text-align: right;\n",
       "    }\n",
       "</style>\n",
       "<table border=\"1\" class=\"dataframe\">\n",
       "  <thead>\n",
       "    <tr style=\"text-align: right;\">\n",
       "      <th></th>\n",
       "      <th>id</th>\n",
       "      <th>release_date</th>\n",
       "      <th>title</th>\n",
       "      <th>production_budget</th>\n",
       "      <th>domestic_gross</th>\n",
       "      <th>worldwide_gross</th>\n",
       "    </tr>\n",
       "  </thead>\n",
       "  <tbody>\n",
       "    <tr>\n",
       "      <th>0</th>\n",
       "      <td>1</td>\n",
       "      <td>Dec 18, 2009</td>\n",
       "      <td>Avatar</td>\n",
       "      <td>$425,000,000</td>\n",
       "      <td>760507625</td>\n",
       "      <td>$2,776,345,279</td>\n",
       "    </tr>\n",
       "    <tr>\n",
       "      <th>1</th>\n",
       "      <td>2</td>\n",
       "      <td>May 20, 2011</td>\n",
       "      <td>Pirates of the Caribbean: On Stranger Tides</td>\n",
       "      <td>$410,600,000</td>\n",
       "      <td>241063875</td>\n",
       "      <td>$1,045,663,875</td>\n",
       "    </tr>\n",
       "    <tr>\n",
       "      <th>2</th>\n",
       "      <td>3</td>\n",
       "      <td>Jun 7, 2019</td>\n",
       "      <td>Dark Phoenix</td>\n",
       "      <td>$350,000,000</td>\n",
       "      <td>42762350</td>\n",
       "      <td>$149,762,350</td>\n",
       "    </tr>\n",
       "    <tr>\n",
       "      <th>3</th>\n",
       "      <td>4</td>\n",
       "      <td>May 1, 2015</td>\n",
       "      <td>Avengers: Age of Ultron</td>\n",
       "      <td>$330,600,000</td>\n",
       "      <td>459005868</td>\n",
       "      <td>$1,403,013,963</td>\n",
       "    </tr>\n",
       "    <tr>\n",
       "      <th>4</th>\n",
       "      <td>5</td>\n",
       "      <td>Dec 15, 2017</td>\n",
       "      <td>Star Wars Ep. VIII: The Last Jedi</td>\n",
       "      <td>$317,000,000</td>\n",
       "      <td>620181382</td>\n",
       "      <td>$1,316,721,747</td>\n",
       "    </tr>\n",
       "  </tbody>\n",
       "</table>\n",
       "</div>"
      ],
      "text/plain": [
       "   id  release_date                                        title  \\\n",
       "0   1  Dec 18, 2009                                       Avatar   \n",
       "1   2  May 20, 2011  Pirates of the Caribbean: On Stranger Tides   \n",
       "2   3   Jun 7, 2019                                 Dark Phoenix   \n",
       "3   4   May 1, 2015                      Avengers: Age of Ultron   \n",
       "4   5  Dec 15, 2017            Star Wars Ep. VIII: The Last Jedi   \n",
       "\n",
       "  production_budget domestic_gross worldwide_gross  \n",
       "0      $425,000,000      760507625  $2,776,345,279  \n",
       "1      $410,600,000      241063875  $1,045,663,875  \n",
       "2      $350,000,000       42762350    $149,762,350  \n",
       "3      $330,600,000      459005868  $1,403,013,963  \n",
       "4      $317,000,000      620181382  $1,316,721,747  "
      ]
     },
     "execution_count": 20,
     "metadata": {},
     "output_type": "execute_result"
    }
   ],
   "source": [
    "budget_df['domestic_gross']=budget_df['domestic_gross'].str.replace('$','',regex=True)\n",
    "budget_df['domestic_gross']=budget_df['domestic_gross'].str.replace(',','',regex=True)\n",
    "budget_df.head()"
   ]
  },
  {
   "cell_type": "code",
   "execution_count": 21,
   "metadata": {},
   "outputs": [],
   "source": [
    "#changing the data type of the domestic column to be able to join columns with same data type\n",
    "budget_df['domestic_gross']=budget_df['domestic_gross'].astype(float)"
   ]
  },
  {
   "cell_type": "code",
   "execution_count": 22,
   "metadata": {},
   "outputs": [],
   "source": [
    "movie_gross_df.rename(columns={'foreign_gross':'worldwide_gross'},inplace=True)"
   ]
  },
  {
   "cell_type": "code",
   "execution_count": 23,
   "metadata": {},
   "outputs": [],
   "source": [
    "#now merging the two data frames \n",
    "movie_info_df=pd.merge(movie_gross_df,budget_df,on=['title'])"
   ]
  },
  {
   "cell_type": "code",
   "execution_count": 24,
   "metadata": {},
   "outputs": [
    {
     "data": {
      "text/html": [
       "<div>\n",
       "<style scoped>\n",
       "    .dataframe tbody tr th:only-of-type {\n",
       "        vertical-align: middle;\n",
       "    }\n",
       "\n",
       "    .dataframe tbody tr th {\n",
       "        vertical-align: top;\n",
       "    }\n",
       "\n",
       "    .dataframe thead th {\n",
       "        text-align: right;\n",
       "    }\n",
       "</style>\n",
       "<table border=\"1\" class=\"dataframe\">\n",
       "  <thead>\n",
       "    <tr style=\"text-align: right;\">\n",
       "      <th></th>\n",
       "      <th>genre_ids</th>\n",
       "      <th>id_x</th>\n",
       "      <th>original_language</th>\n",
       "      <th>original_title</th>\n",
       "      <th>popularity</th>\n",
       "      <th>release_date_x</th>\n",
       "      <th>title</th>\n",
       "      <th>vote_average</th>\n",
       "      <th>vote_count</th>\n",
       "      <th>studio</th>\n",
       "      <th>domestic_gross_x</th>\n",
       "      <th>worldwide_gross_x</th>\n",
       "      <th>year</th>\n",
       "      <th>id_y</th>\n",
       "      <th>release_date_y</th>\n",
       "      <th>production_budget</th>\n",
       "      <th>domestic_gross_y</th>\n",
       "      <th>worldwide_gross_y</th>\n",
       "    </tr>\n",
       "  </thead>\n",
       "  <tbody>\n",
       "    <tr>\n",
       "      <th>0</th>\n",
       "      <td>[14, 12, 16, 10751]</td>\n",
       "      <td>10191</td>\n",
       "      <td>en</td>\n",
       "      <td>How to Train Your Dragon</td>\n",
       "      <td>28.734</td>\n",
       "      <td>2010-03-26</td>\n",
       "      <td>How to Train Your Dragon</td>\n",
       "      <td>7.7</td>\n",
       "      <td>7610</td>\n",
       "      <td>P/DW</td>\n",
       "      <td>217600000.0</td>\n",
       "      <td>277300000</td>\n",
       "      <td>2010</td>\n",
       "      <td>30</td>\n",
       "      <td>Mar 26, 2010</td>\n",
       "      <td>$165,000,000</td>\n",
       "      <td>217581232.0</td>\n",
       "      <td>$494,870,992</td>\n",
       "    </tr>\n",
       "    <tr>\n",
       "      <th>1</th>\n",
       "      <td>[12, 28, 878]</td>\n",
       "      <td>10138</td>\n",
       "      <td>en</td>\n",
       "      <td>Iron Man 2</td>\n",
       "      <td>28.515</td>\n",
       "      <td>2010-05-07</td>\n",
       "      <td>Iron Man 2</td>\n",
       "      <td>6.8</td>\n",
       "      <td>12368</td>\n",
       "      <td>Par.</td>\n",
       "      <td>312400000.0</td>\n",
       "      <td>311500000</td>\n",
       "      <td>2010</td>\n",
       "      <td>15</td>\n",
       "      <td>May 7, 2010</td>\n",
       "      <td>$170,000,000</td>\n",
       "      <td>312433331.0</td>\n",
       "      <td>$621,156,389</td>\n",
       "    </tr>\n",
       "    <tr>\n",
       "      <th>2</th>\n",
       "      <td>[28, 878, 12]</td>\n",
       "      <td>27205</td>\n",
       "      <td>en</td>\n",
       "      <td>Inception</td>\n",
       "      <td>27.920</td>\n",
       "      <td>2010-07-16</td>\n",
       "      <td>Inception</td>\n",
       "      <td>8.3</td>\n",
       "      <td>22186</td>\n",
       "      <td>WB</td>\n",
       "      <td>292600000.0</td>\n",
       "      <td>535700000</td>\n",
       "      <td>2010</td>\n",
       "      <td>38</td>\n",
       "      <td>Jul 16, 2010</td>\n",
       "      <td>$160,000,000</td>\n",
       "      <td>292576195.0</td>\n",
       "      <td>$835,524,642</td>\n",
       "    </tr>\n",
       "    <tr>\n",
       "      <th>3</th>\n",
       "      <td>[16, 10751, 35]</td>\n",
       "      <td>10193</td>\n",
       "      <td>en</td>\n",
       "      <td>Toy Story 3</td>\n",
       "      <td>24.445</td>\n",
       "      <td>2010-06-17</td>\n",
       "      <td>Toy Story 3</td>\n",
       "      <td>7.7</td>\n",
       "      <td>8340</td>\n",
       "      <td>BV</td>\n",
       "      <td>415000000.0</td>\n",
       "      <td>652000000</td>\n",
       "      <td>2010</td>\n",
       "      <td>47</td>\n",
       "      <td>Jun 18, 2010</td>\n",
       "      <td>$200,000,000</td>\n",
       "      <td>415004880.0</td>\n",
       "      <td>$1,068,879,522</td>\n",
       "    </tr>\n",
       "    <tr>\n",
       "      <th>4</th>\n",
       "      <td>[16, 10751, 35]</td>\n",
       "      <td>20352</td>\n",
       "      <td>en</td>\n",
       "      <td>Despicable Me</td>\n",
       "      <td>23.673</td>\n",
       "      <td>2010-07-09</td>\n",
       "      <td>Despicable Me</td>\n",
       "      <td>7.2</td>\n",
       "      <td>10057</td>\n",
       "      <td>Uni.</td>\n",
       "      <td>251500000.0</td>\n",
       "      <td>291600000</td>\n",
       "      <td>2010</td>\n",
       "      <td>50</td>\n",
       "      <td>Jul 9, 2010</td>\n",
       "      <td>$69,000,000</td>\n",
       "      <td>251513985.0</td>\n",
       "      <td>$543,464,573</td>\n",
       "    </tr>\n",
       "  </tbody>\n",
       "</table>\n",
       "</div>"
      ],
      "text/plain": [
       "             genre_ids   id_x original_language            original_title  \\\n",
       "0  [14, 12, 16, 10751]  10191                en  How to Train Your Dragon   \n",
       "1        [12, 28, 878]  10138                en                Iron Man 2   \n",
       "2        [28, 878, 12]  27205                en                 Inception   \n",
       "3      [16, 10751, 35]  10193                en               Toy Story 3   \n",
       "4      [16, 10751, 35]  20352                en             Despicable Me   \n",
       "\n",
       "   popularity release_date_x                     title  vote_average  \\\n",
       "0      28.734     2010-03-26  How to Train Your Dragon           7.7   \n",
       "1      28.515     2010-05-07                Iron Man 2           6.8   \n",
       "2      27.920     2010-07-16                 Inception           8.3   \n",
       "3      24.445     2010-06-17               Toy Story 3           7.7   \n",
       "4      23.673     2010-07-09             Despicable Me           7.2   \n",
       "\n",
       "   vote_count studio  domestic_gross_x worldwide_gross_x  year  id_y  \\\n",
       "0        7610   P/DW       217600000.0         277300000  2010    30   \n",
       "1       12368   Par.       312400000.0         311500000  2010    15   \n",
       "2       22186     WB       292600000.0         535700000  2010    38   \n",
       "3        8340     BV       415000000.0         652000000  2010    47   \n",
       "4       10057   Uni.       251500000.0         291600000  2010    50   \n",
       "\n",
       "  release_date_y production_budget  domestic_gross_y worldwide_gross_y  \n",
       "0   Mar 26, 2010      $165,000,000       217581232.0      $494,870,992  \n",
       "1    May 7, 2010      $170,000,000       312433331.0      $621,156,389  \n",
       "2   Jul 16, 2010      $160,000,000       292576195.0      $835,524,642  \n",
       "3   Jun 18, 2010      $200,000,000       415004880.0    $1,068,879,522  \n",
       "4    Jul 9, 2010       $69,000,000       251513985.0      $543,464,573  "
      ]
     },
     "execution_count": 24,
     "metadata": {},
     "output_type": "execute_result"
    }
   ],
   "source": [
    "movie_info_df.head()"
   ]
  },
  {
   "cell_type": "code",
   "execution_count": 25,
   "metadata": {},
   "outputs": [],
   "source": [
    "#decided to drop the columns i dont need although its not necessary\n",
    "movie_info_df.drop('release_date_x',axis=1,inplace=True)\n"
   ]
  },
  {
   "cell_type": "code",
   "execution_count": 26,
   "metadata": {},
   "outputs": [
    {
     "data": {
      "text/html": [
       "<div>\n",
       "<style scoped>\n",
       "    .dataframe tbody tr th:only-of-type {\n",
       "        vertical-align: middle;\n",
       "    }\n",
       "\n",
       "    .dataframe tbody tr th {\n",
       "        vertical-align: top;\n",
       "    }\n",
       "\n",
       "    .dataframe thead th {\n",
       "        text-align: right;\n",
       "    }\n",
       "</style>\n",
       "<table border=\"1\" class=\"dataframe\">\n",
       "  <thead>\n",
       "    <tr style=\"text-align: right;\">\n",
       "      <th></th>\n",
       "      <th>genre_ids</th>\n",
       "      <th>id_x</th>\n",
       "      <th>original_language</th>\n",
       "      <th>original_title</th>\n",
       "      <th>popularity</th>\n",
       "      <th>title</th>\n",
       "      <th>vote_average</th>\n",
       "      <th>vote_count</th>\n",
       "      <th>studio</th>\n",
       "      <th>domestic_gross_x</th>\n",
       "      <th>worldwide_gross_x</th>\n",
       "      <th>year</th>\n",
       "      <th>id_y</th>\n",
       "      <th>release_date_y</th>\n",
       "      <th>production_budget</th>\n",
       "      <th>domestic_gross_y</th>\n",
       "      <th>worldwide_gross_y</th>\n",
       "    </tr>\n",
       "  </thead>\n",
       "  <tbody>\n",
       "    <tr>\n",
       "      <th>0</th>\n",
       "      <td>[14, 12, 16, 10751]</td>\n",
       "      <td>10191</td>\n",
       "      <td>en</td>\n",
       "      <td>How to Train Your Dragon</td>\n",
       "      <td>28.734</td>\n",
       "      <td>How to Train Your Dragon</td>\n",
       "      <td>7.7</td>\n",
       "      <td>7610</td>\n",
       "      <td>P/DW</td>\n",
       "      <td>217600000.0</td>\n",
       "      <td>277300000</td>\n",
       "      <td>2010</td>\n",
       "      <td>30</td>\n",
       "      <td>Mar 26, 2010</td>\n",
       "      <td>165000000</td>\n",
       "      <td>217581232.0</td>\n",
       "      <td>$494,870,992</td>\n",
       "    </tr>\n",
       "    <tr>\n",
       "      <th>1</th>\n",
       "      <td>[12, 28, 878]</td>\n",
       "      <td>10138</td>\n",
       "      <td>en</td>\n",
       "      <td>Iron Man 2</td>\n",
       "      <td>28.515</td>\n",
       "      <td>Iron Man 2</td>\n",
       "      <td>6.8</td>\n",
       "      <td>12368</td>\n",
       "      <td>Par.</td>\n",
       "      <td>312400000.0</td>\n",
       "      <td>311500000</td>\n",
       "      <td>2010</td>\n",
       "      <td>15</td>\n",
       "      <td>May 7, 2010</td>\n",
       "      <td>170000000</td>\n",
       "      <td>312433331.0</td>\n",
       "      <td>$621,156,389</td>\n",
       "    </tr>\n",
       "    <tr>\n",
       "      <th>2</th>\n",
       "      <td>[28, 878, 12]</td>\n",
       "      <td>27205</td>\n",
       "      <td>en</td>\n",
       "      <td>Inception</td>\n",
       "      <td>27.920</td>\n",
       "      <td>Inception</td>\n",
       "      <td>8.3</td>\n",
       "      <td>22186</td>\n",
       "      <td>WB</td>\n",
       "      <td>292600000.0</td>\n",
       "      <td>535700000</td>\n",
       "      <td>2010</td>\n",
       "      <td>38</td>\n",
       "      <td>Jul 16, 2010</td>\n",
       "      <td>160000000</td>\n",
       "      <td>292576195.0</td>\n",
       "      <td>$835,524,642</td>\n",
       "    </tr>\n",
       "  </tbody>\n",
       "</table>\n",
       "</div>"
      ],
      "text/plain": [
       "             genre_ids   id_x original_language            original_title  \\\n",
       "0  [14, 12, 16, 10751]  10191                en  How to Train Your Dragon   \n",
       "1        [12, 28, 878]  10138                en                Iron Man 2   \n",
       "2        [28, 878, 12]  27205                en                 Inception   \n",
       "\n",
       "   popularity                     title  vote_average  vote_count studio  \\\n",
       "0      28.734  How to Train Your Dragon           7.7        7610   P/DW   \n",
       "1      28.515                Iron Man 2           6.8       12368   Par.   \n",
       "2      27.920                 Inception           8.3       22186     WB   \n",
       "\n",
       "   domestic_gross_x worldwide_gross_x  year  id_y release_date_y  \\\n",
       "0       217600000.0         277300000  2010    30   Mar 26, 2010   \n",
       "1       312400000.0         311500000  2010    15    May 7, 2010   \n",
       "2       292600000.0         535700000  2010    38   Jul 16, 2010   \n",
       "\n",
       "  production_budget  domestic_gross_y worldwide_gross_y  \n",
       "0         165000000       217581232.0      $494,870,992  \n",
       "1         170000000       312433331.0      $621,156,389  \n",
       "2         160000000       292576195.0      $835,524,642  "
      ]
     },
     "execution_count": 26,
     "metadata": {},
     "output_type": "execute_result"
    }
   ],
   "source": [
    "#removing the dollar sign and removing the comma in the values to be able to work with them\n",
    "movie_info_df['production_budget']=movie_info_df['production_budget'].str.replace('$','',regex=True)\n",
    "movie_info_df['production_budget']=movie_info_df['production_budget'].str.replace(',','',regex=True)\n",
    "movie_info_df.head(3)"
   ]
  },
  {
   "cell_type": "code",
   "execution_count": 27,
   "metadata": {},
   "outputs": [],
   "source": [
    "#looking at the domestic gross column,the values are almost the same so i will drop one of the domestic_gross columns\n",
    "movie_info_df.drop('domestic_gross_x',axis=1,inplace=True)"
   ]
  },
  {
   "cell_type": "code",
   "execution_count": 28,
   "metadata": {},
   "outputs": [],
   "source": [
    "#dropping this column because the null values are many\n",
    "movie_info_df.drop('worldwide_gross_x',axis=1,inplace=True)"
   ]
  },
  {
   "cell_type": "code",
   "execution_count": 29,
   "metadata": {},
   "outputs": [
    {
     "name": "stdout",
     "output_type": "stream",
     "text": [
      "<class 'pandas.core.frame.DataFrame'>\n",
      "Int64Index: 1395 entries, 0 to 1394\n",
      "Data columns (total 15 columns):\n",
      " #   Column             Non-Null Count  Dtype  \n",
      "---  ------             --------------  -----  \n",
      " 0   genre_ids          1395 non-null   object \n",
      " 1   id_x               1395 non-null   int64  \n",
      " 2   original_language  1395 non-null   object \n",
      " 3   original_title     1395 non-null   object \n",
      " 4   popularity         1395 non-null   float64\n",
      " 5   title              1395 non-null   object \n",
      " 6   vote_average       1395 non-null   float64\n",
      " 7   vote_count         1395 non-null   int64  \n",
      " 8   studio             1394 non-null   object \n",
      " 9   year               1395 non-null   int64  \n",
      " 10  id_y               1395 non-null   int64  \n",
      " 11  release_date_y     1395 non-null   object \n",
      " 12  production_budget  1395 non-null   object \n",
      " 13  domestic_gross_y   1395 non-null   float64\n",
      " 14  worldwide_gross_y  1395 non-null   object \n",
      "dtypes: float64(3), int64(4), object(8)\n",
      "memory usage: 174.4+ KB\n"
     ]
    }
   ],
   "source": [
    "movie_info_df.info()"
   ]
  },
  {
   "cell_type": "code",
   "execution_count": 30,
   "metadata": {},
   "outputs": [
    {
     "data": {
      "text/plain": [
       "genre_ids            0\n",
       "id_x                 0\n",
       "original_language    0\n",
       "original_title       0\n",
       "popularity           0\n",
       "title                0\n",
       "vote_average         0\n",
       "vote_count           0\n",
       "studio               1\n",
       "year                 0\n",
       "id_y                 0\n",
       "release_date_y       0\n",
       "production_budget    0\n",
       "domestic_gross_y     0\n",
       "worldwide_gross_y    0\n",
       "dtype: int64"
      ]
     },
     "execution_count": 30,
     "metadata": {},
     "output_type": "execute_result"
    }
   ],
   "source": [
    "#checking the number of null values in each column\n",
    "movie_info_df.isna().sum()"
   ]
  },
  {
   "cell_type": "code",
   "execution_count": 31,
   "metadata": {},
   "outputs": [
    {
     "data": {
      "text/html": [
       "<div>\n",
       "<style scoped>\n",
       "    .dataframe tbody tr th:only-of-type {\n",
       "        vertical-align: middle;\n",
       "    }\n",
       "\n",
       "    .dataframe tbody tr th {\n",
       "        vertical-align: top;\n",
       "    }\n",
       "\n",
       "    .dataframe thead th {\n",
       "        text-align: right;\n",
       "    }\n",
       "</style>\n",
       "<table border=\"1\" class=\"dataframe\">\n",
       "  <thead>\n",
       "    <tr style=\"text-align: right;\">\n",
       "      <th></th>\n",
       "      <th>genre_ids</th>\n",
       "      <th>id_x</th>\n",
       "      <th>original_language</th>\n",
       "      <th>original_title</th>\n",
       "      <th>popularity</th>\n",
       "      <th>title</th>\n",
       "      <th>vote_average</th>\n",
       "      <th>vote_count</th>\n",
       "      <th>studio</th>\n",
       "      <th>year</th>\n",
       "      <th>id_y</th>\n",
       "      <th>release_date_y</th>\n",
       "      <th>production_budget</th>\n",
       "      <th>domestic_gross_y</th>\n",
       "      <th>worldwide_gross_y</th>\n",
       "    </tr>\n",
       "  </thead>\n",
       "  <tbody>\n",
       "    <tr>\n",
       "      <th>0</th>\n",
       "      <td>[14, 12, 16, 10751]</td>\n",
       "      <td>10191</td>\n",
       "      <td>en</td>\n",
       "      <td>How to Train Your Dragon</td>\n",
       "      <td>28.734</td>\n",
       "      <td>How to Train Your Dragon</td>\n",
       "      <td>7.7</td>\n",
       "      <td>7610</td>\n",
       "      <td>P/DW</td>\n",
       "      <td>2010</td>\n",
       "      <td>30</td>\n",
       "      <td>Mar 26, 2010</td>\n",
       "      <td>165000000</td>\n",
       "      <td>217581232.0</td>\n",
       "      <td>494870992</td>\n",
       "    </tr>\n",
       "    <tr>\n",
       "      <th>1</th>\n",
       "      <td>[12, 28, 878]</td>\n",
       "      <td>10138</td>\n",
       "      <td>en</td>\n",
       "      <td>Iron Man 2</td>\n",
       "      <td>28.515</td>\n",
       "      <td>Iron Man 2</td>\n",
       "      <td>6.8</td>\n",
       "      <td>12368</td>\n",
       "      <td>Par.</td>\n",
       "      <td>2010</td>\n",
       "      <td>15</td>\n",
       "      <td>May 7, 2010</td>\n",
       "      <td>170000000</td>\n",
       "      <td>312433331.0</td>\n",
       "      <td>621156389</td>\n",
       "    </tr>\n",
       "    <tr>\n",
       "      <th>2</th>\n",
       "      <td>[28, 878, 12]</td>\n",
       "      <td>27205</td>\n",
       "      <td>en</td>\n",
       "      <td>Inception</td>\n",
       "      <td>27.920</td>\n",
       "      <td>Inception</td>\n",
       "      <td>8.3</td>\n",
       "      <td>22186</td>\n",
       "      <td>WB</td>\n",
       "      <td>2010</td>\n",
       "      <td>38</td>\n",
       "      <td>Jul 16, 2010</td>\n",
       "      <td>160000000</td>\n",
       "      <td>292576195.0</td>\n",
       "      <td>835524642</td>\n",
       "    </tr>\n",
       "  </tbody>\n",
       "</table>\n",
       "</div>"
      ],
      "text/plain": [
       "             genre_ids   id_x original_language            original_title  \\\n",
       "0  [14, 12, 16, 10751]  10191                en  How to Train Your Dragon   \n",
       "1        [12, 28, 878]  10138                en                Iron Man 2   \n",
       "2        [28, 878, 12]  27205                en                 Inception   \n",
       "\n",
       "   popularity                     title  vote_average  vote_count studio  \\\n",
       "0      28.734  How to Train Your Dragon           7.7        7610   P/DW   \n",
       "1      28.515                Iron Man 2           6.8       12368   Par.   \n",
       "2      27.920                 Inception           8.3       22186     WB   \n",
       "\n",
       "   year  id_y release_date_y production_budget  domestic_gross_y  \\\n",
       "0  2010    30   Mar 26, 2010         165000000       217581232.0   \n",
       "1  2010    15    May 7, 2010         170000000       312433331.0   \n",
       "2  2010    38   Jul 16, 2010         160000000       292576195.0   \n",
       "\n",
       "  worldwide_gross_y  \n",
       "0         494870992  \n",
       "1         621156389  \n",
       "2         835524642  "
      ]
     },
     "execution_count": 31,
     "metadata": {},
     "output_type": "execute_result"
    }
   ],
   "source": [
    "#removing the comma in this column\n",
    "movie_info_df['worldwide_gross_y']=movie_info_df['worldwide_gross_y'].str.replace('$','',regex=True)\n",
    "movie_info_df['worldwide_gross_y']=movie_info_df['worldwide_gross_y'].str.replace(',','',regex=True)\n",
    "movie_info_df.head(3)"
   ]
  },
  {
   "cell_type": "code",
   "execution_count": 32,
   "metadata": {},
   "outputs": [],
   "source": [
    "#sorting values by production budget from largest\n",
    "movie_info_df.sort_values(by='production_budget',ascending=False,inplace=True)"
   ]
  },
  {
   "cell_type": "code",
   "execution_count": 33,
   "metadata": {},
   "outputs": [
    {
     "data": {
      "text/html": [
       "<div>\n",
       "<style scoped>\n",
       "    .dataframe tbody tr th:only-of-type {\n",
       "        vertical-align: middle;\n",
       "    }\n",
       "\n",
       "    .dataframe tbody tr th {\n",
       "        vertical-align: top;\n",
       "    }\n",
       "\n",
       "    .dataframe thead th {\n",
       "        text-align: right;\n",
       "    }\n",
       "</style>\n",
       "<table border=\"1\" class=\"dataframe\">\n",
       "  <thead>\n",
       "    <tr style=\"text-align: right;\">\n",
       "      <th></th>\n",
       "      <th>genre_ids</th>\n",
       "      <th>id_x</th>\n",
       "      <th>original_language</th>\n",
       "      <th>original_title</th>\n",
       "      <th>popularity</th>\n",
       "      <th>title</th>\n",
       "      <th>vote_average</th>\n",
       "      <th>vote_count</th>\n",
       "      <th>studio</th>\n",
       "      <th>year</th>\n",
       "      <th>id_y</th>\n",
       "      <th>release_date_y</th>\n",
       "      <th>production_budget</th>\n",
       "      <th>domestic_gross_y</th>\n",
       "      <th>worldwide_gross_y</th>\n",
       "    </tr>\n",
       "  </thead>\n",
       "  <tbody>\n",
       "    <tr>\n",
       "      <th>17</th>\n",
       "      <td>[28, 12, 18]</td>\n",
       "      <td>20662</td>\n",
       "      <td>en</td>\n",
       "      <td>Robin Hood</td>\n",
       "      <td>15.444</td>\n",
       "      <td>Robin Hood</td>\n",
       "      <td>6.3</td>\n",
       "      <td>2569</td>\n",
       "      <td>Uni.</td>\n",
       "      <td>2010</td>\n",
       "      <td>9</td>\n",
       "      <td>Nov 21, 2018</td>\n",
       "      <td>99000000</td>\n",
       "      <td>30824628.0</td>\n",
       "      <td>84747441</td>\n",
       "    </tr>\n",
       "    <tr>\n",
       "      <th>950</th>\n",
       "      <td>[12, 35, 16, 10751]</td>\n",
       "      <td>227973</td>\n",
       "      <td>en</td>\n",
       "      <td>The Peanuts Movie</td>\n",
       "      <td>11.344</td>\n",
       "      <td>The Peanuts Movie</td>\n",
       "      <td>6.6</td>\n",
       "      <td>894</td>\n",
       "      <td>Fox</td>\n",
       "      <td>2015</td>\n",
       "      <td>7</td>\n",
       "      <td>Nov 6, 2015</td>\n",
       "      <td>99000000</td>\n",
       "      <td>130178411.0</td>\n",
       "      <td>250091610</td>\n",
       "    </tr>\n",
       "    <tr>\n",
       "      <th>949</th>\n",
       "      <td>[12, 35, 16, 10751]</td>\n",
       "      <td>227973</td>\n",
       "      <td>en</td>\n",
       "      <td>The Peanuts Movie</td>\n",
       "      <td>11.344</td>\n",
       "      <td>The Peanuts Movie</td>\n",
       "      <td>6.6</td>\n",
       "      <td>894</td>\n",
       "      <td>Fox</td>\n",
       "      <td>2015</td>\n",
       "      <td>7</td>\n",
       "      <td>Nov 6, 2015</td>\n",
       "      <td>99000000</td>\n",
       "      <td>130178411.0</td>\n",
       "      <td>250091610</td>\n",
       "    </tr>\n",
       "  </tbody>\n",
       "</table>\n",
       "</div>"
      ],
      "text/plain": [
       "               genre_ids    id_x original_language     original_title  \\\n",
       "17          [28, 12, 18]   20662                en         Robin Hood   \n",
       "950  [12, 35, 16, 10751]  227973                en  The Peanuts Movie   \n",
       "949  [12, 35, 16, 10751]  227973                en  The Peanuts Movie   \n",
       "\n",
       "     popularity              title  vote_average  vote_count studio  year  \\\n",
       "17       15.444         Robin Hood           6.3        2569   Uni.  2010   \n",
       "950      11.344  The Peanuts Movie           6.6         894    Fox  2015   \n",
       "949      11.344  The Peanuts Movie           6.6         894    Fox  2015   \n",
       "\n",
       "     id_y release_date_y production_budget  domestic_gross_y worldwide_gross_y  \n",
       "17      9   Nov 21, 2018          99000000        30824628.0          84747441  \n",
       "950     7    Nov 6, 2015          99000000       130178411.0         250091610  \n",
       "949     7    Nov 6, 2015          99000000       130178411.0         250091610  "
      ]
     },
     "execution_count": 33,
     "metadata": {},
     "output_type": "execute_result"
    }
   ],
   "source": [
    "movie_info_df.head(3)"
   ]
  },
  {
   "cell_type": "code",
   "execution_count": 34,
   "metadata": {},
   "outputs": [
    {
     "data": {
      "text/plain": [
       "False    1271\n",
       "True      124\n",
       "dtype: int64"
      ]
     },
     "execution_count": 34,
     "metadata": {},
     "output_type": "execute_result"
    }
   ],
   "source": [
    "#checking for duplicates\n",
    "movie_info_df.duplicated().value_counts()"
   ]
  },
  {
   "cell_type": "code",
   "execution_count": 35,
   "metadata": {},
   "outputs": [],
   "source": [
    "movie_info_df.drop_duplicates(inplace=True)"
   ]
  },
  {
   "cell_type": "code",
   "execution_count": 36,
   "metadata": {},
   "outputs": [
    {
     "data": {
      "text/plain": [
       "False    1271\n",
       "dtype: int64"
      ]
     },
     "execution_count": 36,
     "metadata": {},
     "output_type": "execute_result"
    }
   ],
   "source": [
    "movie_info_df.duplicated().value_counts()"
   ]
  },
  {
   "cell_type": "code",
   "execution_count": 37,
   "metadata": {},
   "outputs": [
    {
     "data": {
      "text/html": [
       "<div>\n",
       "<style scoped>\n",
       "    .dataframe tbody tr th:only-of-type {\n",
       "        vertical-align: middle;\n",
       "    }\n",
       "\n",
       "    .dataframe tbody tr th {\n",
       "        vertical-align: top;\n",
       "    }\n",
       "\n",
       "    .dataframe thead th {\n",
       "        text-align: right;\n",
       "    }\n",
       "</style>\n",
       "<table border=\"1\" class=\"dataframe\">\n",
       "  <thead>\n",
       "    <tr style=\"text-align: right;\">\n",
       "      <th></th>\n",
       "      <th>genre_ids</th>\n",
       "      <th>id_x</th>\n",
       "      <th>original_language</th>\n",
       "      <th>original_title</th>\n",
       "      <th>popularity</th>\n",
       "      <th>title</th>\n",
       "      <th>vote_average</th>\n",
       "      <th>vote_count</th>\n",
       "      <th>studio</th>\n",
       "      <th>year</th>\n",
       "      <th>id_y</th>\n",
       "      <th>release_date_y</th>\n",
       "      <th>production_budget</th>\n",
       "      <th>domestic_gross_y</th>\n",
       "      <th>worldwide_gross_y</th>\n",
       "    </tr>\n",
       "  </thead>\n",
       "  <tbody>\n",
       "    <tr>\n",
       "      <th>633</th>\n",
       "      <td>[27, 53, 9648]</td>\n",
       "      <td>83899</td>\n",
       "      <td>en</td>\n",
       "      <td>You're Next</td>\n",
       "      <td>11.450</td>\n",
       "      <td>You're Next</td>\n",
       "      <td>6.6</td>\n",
       "      <td>1258</td>\n",
       "      <td>LGF</td>\n",
       "      <td>2013</td>\n",
       "      <td>17</td>\n",
       "      <td>Aug 23, 2013</td>\n",
       "      <td>1000000</td>\n",
       "      <td>18494006.0</td>\n",
       "      <td>26887177</td>\n",
       "    </tr>\n",
       "    <tr>\n",
       "      <th>955</th>\n",
       "      <td>[53]</td>\n",
       "      <td>306947</td>\n",
       "      <td>en</td>\n",
       "      <td>The Invitation</td>\n",
       "      <td>10.424</td>\n",
       "      <td>The Invitation</td>\n",
       "      <td>6.5</td>\n",
       "      <td>1063</td>\n",
       "      <td>Drft.</td>\n",
       "      <td>2016</td>\n",
       "      <td>74</td>\n",
       "      <td>Apr 8, 2016</td>\n",
       "      <td>1000000</td>\n",
       "      <td>231738.0</td>\n",
       "      <td>354836</td>\n",
       "    </tr>\n",
       "    <tr>\n",
       "      <th>1365</th>\n",
       "      <td>[27]</td>\n",
       "      <td>505058</td>\n",
       "      <td>en</td>\n",
       "      <td>Unfriended: Dark Web</td>\n",
       "      <td>17.861</td>\n",
       "      <td>Unfriended: Dark Web</td>\n",
       "      <td>6.1</td>\n",
       "      <td>365</td>\n",
       "      <td>BH Tilt</td>\n",
       "      <td>2018</td>\n",
       "      <td>29</td>\n",
       "      <td>Jul 20, 2018</td>\n",
       "      <td>1000000</td>\n",
       "      <td>8866745.0</td>\n",
       "      <td>16434588</td>\n",
       "    </tr>\n",
       "    <tr>\n",
       "      <th>979</th>\n",
       "      <td>[27, 53]</td>\n",
       "      <td>299245</td>\n",
       "      <td>en</td>\n",
       "      <td>The Gallows</td>\n",
       "      <td>9.166</td>\n",
       "      <td>The Gallows</td>\n",
       "      <td>4.8</td>\n",
       "      <td>591</td>\n",
       "      <td>WB (NL)</td>\n",
       "      <td>2015</td>\n",
       "      <td>80</td>\n",
       "      <td>Jul 10, 2015</td>\n",
       "      <td>100000</td>\n",
       "      <td>22764410.0</td>\n",
       "      <td>41656474</td>\n",
       "    </tr>\n",
       "    <tr>\n",
       "      <th>1283</th>\n",
       "      <td>[18, 14, 10749]</td>\n",
       "      <td>428449</td>\n",
       "      <td>en</td>\n",
       "      <td>A Ghost Story</td>\n",
       "      <td>11.886</td>\n",
       "      <td>A Ghost Story</td>\n",
       "      <td>7.0</td>\n",
       "      <td>906</td>\n",
       "      <td>A24</td>\n",
       "      <td>2017</td>\n",
       "      <td>86</td>\n",
       "      <td>Jul 7, 2017</td>\n",
       "      <td>100000</td>\n",
       "      <td>1594798.0</td>\n",
       "      <td>2769782</td>\n",
       "    </tr>\n",
       "  </tbody>\n",
       "</table>\n",
       "</div>"
      ],
      "text/plain": [
       "            genre_ids    id_x original_language        original_title  \\\n",
       "633    [27, 53, 9648]   83899                en           You're Next   \n",
       "955              [53]  306947                en        The Invitation   \n",
       "1365             [27]  505058                en  Unfriended: Dark Web   \n",
       "979          [27, 53]  299245                en           The Gallows   \n",
       "1283  [18, 14, 10749]  428449                en         A Ghost Story   \n",
       "\n",
       "      popularity                 title  vote_average  vote_count   studio  \\\n",
       "633       11.450           You're Next           6.6        1258      LGF   \n",
       "955       10.424        The Invitation           6.5        1063    Drft.   \n",
       "1365      17.861  Unfriended: Dark Web           6.1         365  BH Tilt   \n",
       "979        9.166           The Gallows           4.8         591  WB (NL)   \n",
       "1283      11.886         A Ghost Story           7.0         906      A24   \n",
       "\n",
       "      year  id_y release_date_y production_budget  domestic_gross_y  \\\n",
       "633   2013    17   Aug 23, 2013           1000000        18494006.0   \n",
       "955   2016    74    Apr 8, 2016           1000000          231738.0   \n",
       "1365  2018    29   Jul 20, 2018           1000000         8866745.0   \n",
       "979   2015    80   Jul 10, 2015            100000        22764410.0   \n",
       "1283  2017    86    Jul 7, 2017            100000         1594798.0   \n",
       "\n",
       "     worldwide_gross_y  \n",
       "633           26887177  \n",
       "955             354836  \n",
       "1365          16434588  \n",
       "979           41656474  \n",
       "1283           2769782  "
      ]
     },
     "execution_count": 37,
     "metadata": {},
     "output_type": "execute_result"
    }
   ],
   "source": [
    "movie_info_df.tail()"
   ]
  },
  {
   "cell_type": "code",
   "execution_count": 38,
   "metadata": {},
   "outputs": [
    {
     "data": {
      "text/plain": [
       "Uni.    136\n",
       "Fox     113\n",
       "WB      105\n",
       "BV       76\n",
       "Par.     76\n",
       "Name: studio, dtype: int64"
      ]
     },
     "execution_count": 38,
     "metadata": {},
     "output_type": "execute_result"
    }
   ],
   "source": [
    "#checking how many times each studio has produced a movie\n",
    "movie_info_df['studio'].value_counts().head()"
   ]
  },
  {
   "cell_type": "code",
   "execution_count": 39,
   "metadata": {},
   "outputs": [
    {
     "data": {
      "text/plain": [
       "Index(['genre_ids', 'id_x', 'original_language', 'original_title',\n",
       "       'popularity', 'title', 'vote_average', 'vote_count', 'studio', 'year',\n",
       "       'id_y', 'release_date_y', 'production_budget', 'domestic_gross_y',\n",
       "       'worldwide_gross_y'],\n",
       "      dtype='object')"
      ]
     },
     "execution_count": 39,
     "metadata": {},
     "output_type": "execute_result"
    }
   ],
   "source": [
    "movie_info_df.columns"
   ]
  },
  {
   "cell_type": "markdown",
   "metadata": {},
   "source": [
    "## joining the reviews df with movie_info_df to expand the data abit"
   ]
  },
  {
   "cell_type": "code",
   "execution_count": 40,
   "metadata": {},
   "outputs": [],
   "source": [
    "movies_info_df=pd.merge(movie_info_df,reviews_df,on='studio')"
   ]
  },
  {
   "cell_type": "code",
   "execution_count": 41,
   "metadata": {},
   "outputs": [
    {
     "data": {
      "text/html": [
       "<div>\n",
       "<style scoped>\n",
       "    .dataframe tbody tr th:only-of-type {\n",
       "        vertical-align: middle;\n",
       "    }\n",
       "\n",
       "    .dataframe tbody tr th {\n",
       "        vertical-align: top;\n",
       "    }\n",
       "\n",
       "    .dataframe thead th {\n",
       "        text-align: right;\n",
       "    }\n",
       "</style>\n",
       "<table border=\"1\" class=\"dataframe\">\n",
       "  <thead>\n",
       "    <tr style=\"text-align: right;\">\n",
       "      <th></th>\n",
       "      <th>genre_ids</th>\n",
       "      <th>id_x</th>\n",
       "      <th>original_language</th>\n",
       "      <th>original_title</th>\n",
       "      <th>popularity</th>\n",
       "      <th>title</th>\n",
       "      <th>vote_average</th>\n",
       "      <th>vote_count</th>\n",
       "      <th>studio</th>\n",
       "      <th>year</th>\n",
       "      <th>...</th>\n",
       "      <th>synopsis</th>\n",
       "      <th>rating</th>\n",
       "      <th>genre</th>\n",
       "      <th>director</th>\n",
       "      <th>writer</th>\n",
       "      <th>theater_date</th>\n",
       "      <th>dvd_date</th>\n",
       "      <th>currency</th>\n",
       "      <th>box_office</th>\n",
       "      <th>runtime</th>\n",
       "    </tr>\n",
       "  </thead>\n",
       "  <tbody>\n",
       "    <tr>\n",
       "      <th>0</th>\n",
       "      <td>[12, 35, 16, 10751]</td>\n",
       "      <td>227973</td>\n",
       "      <td>en</td>\n",
       "      <td>The Peanuts Movie</td>\n",
       "      <td>11.344</td>\n",
       "      <td>The Peanuts Movie</td>\n",
       "      <td>6.6</td>\n",
       "      <td>894</td>\n",
       "      <td>Fox</td>\n",
       "      <td>2015</td>\n",
       "      <td>...</td>\n",
       "      <td>Aging, small town attorney Mac McClain (Matthe...</td>\n",
       "      <td>PG-13</td>\n",
       "      <td>Drama|Mystery and Suspense</td>\n",
       "      <td>Gary Wheeler</td>\n",
       "      <td>Mark Freiburger|Gary Wheeler|Robert Whitlow|Ma...</td>\n",
       "      <td>NaN</td>\n",
       "      <td>NaN</td>\n",
       "      <td>NaN</td>\n",
       "      <td>NaN</td>\n",
       "      <td>101 minutes</td>\n",
       "    </tr>\n",
       "    <tr>\n",
       "      <th>1</th>\n",
       "      <td>[27, 878, 53]</td>\n",
       "      <td>126889</td>\n",
       "      <td>en</td>\n",
       "      <td>Alien: Covenant</td>\n",
       "      <td>24.651</td>\n",
       "      <td>Alien: Covenant</td>\n",
       "      <td>5.9</td>\n",
       "      <td>4971</td>\n",
       "      <td>Fox</td>\n",
       "      <td>2017</td>\n",
       "      <td>...</td>\n",
       "      <td>Aging, small town attorney Mac McClain (Matthe...</td>\n",
       "      <td>PG-13</td>\n",
       "      <td>Drama|Mystery and Suspense</td>\n",
       "      <td>Gary Wheeler</td>\n",
       "      <td>Mark Freiburger|Gary Wheeler|Robert Whitlow|Ma...</td>\n",
       "      <td>NaN</td>\n",
       "      <td>NaN</td>\n",
       "      <td>NaN</td>\n",
       "      <td>NaN</td>\n",
       "      <td>101 minutes</td>\n",
       "    </tr>\n",
       "    <tr>\n",
       "      <th>2</th>\n",
       "      <td>[99]</td>\n",
       "      <td>217664</td>\n",
       "      <td>en</td>\n",
       "      <td>Unstoppable</td>\n",
       "      <td>0.600</td>\n",
       "      <td>Unstoppable</td>\n",
       "      <td>1.6</td>\n",
       "      <td>4</td>\n",
       "      <td>Fox</td>\n",
       "      <td>2010</td>\n",
       "      <td>...</td>\n",
       "      <td>Aging, small town attorney Mac McClain (Matthe...</td>\n",
       "      <td>PG-13</td>\n",
       "      <td>Drama|Mystery and Suspense</td>\n",
       "      <td>Gary Wheeler</td>\n",
       "      <td>Mark Freiburger|Gary Wheeler|Robert Whitlow|Ma...</td>\n",
       "      <td>NaN</td>\n",
       "      <td>NaN</td>\n",
       "      <td>NaN</td>\n",
       "      <td>NaN</td>\n",
       "      <td>101 minutes</td>\n",
       "    </tr>\n",
       "  </tbody>\n",
       "</table>\n",
       "<p>3 rows × 26 columns</p>\n",
       "</div>"
      ],
      "text/plain": [
       "             genre_ids    id_x original_language     original_title  \\\n",
       "0  [12, 35, 16, 10751]  227973                en  The Peanuts Movie   \n",
       "1        [27, 878, 53]  126889                en    Alien: Covenant   \n",
       "2                 [99]  217664                en        Unstoppable   \n",
       "\n",
       "   popularity              title  vote_average  vote_count studio  year  ...  \\\n",
       "0      11.344  The Peanuts Movie           6.6         894    Fox  2015  ...   \n",
       "1      24.651    Alien: Covenant           5.9        4971    Fox  2017  ...   \n",
       "2       0.600        Unstoppable           1.6           4    Fox  2010  ...   \n",
       "\n",
       "                                            synopsis rating  \\\n",
       "0  Aging, small town attorney Mac McClain (Matthe...  PG-13   \n",
       "1  Aging, small town attorney Mac McClain (Matthe...  PG-13   \n",
       "2  Aging, small town attorney Mac McClain (Matthe...  PG-13   \n",
       "\n",
       "                        genre      director  \\\n",
       "0  Drama|Mystery and Suspense  Gary Wheeler   \n",
       "1  Drama|Mystery and Suspense  Gary Wheeler   \n",
       "2  Drama|Mystery and Suspense  Gary Wheeler   \n",
       "\n",
       "                                              writer  theater_date dvd_date  \\\n",
       "0  Mark Freiburger|Gary Wheeler|Robert Whitlow|Ma...           NaN      NaN   \n",
       "1  Mark Freiburger|Gary Wheeler|Robert Whitlow|Ma...           NaN      NaN   \n",
       "2  Mark Freiburger|Gary Wheeler|Robert Whitlow|Ma...           NaN      NaN   \n",
       "\n",
       "  currency box_office      runtime  \n",
       "0      NaN        NaN  101 minutes  \n",
       "1      NaN        NaN  101 minutes  \n",
       "2      NaN        NaN  101 minutes  \n",
       "\n",
       "[3 rows x 26 columns]"
      ]
     },
     "execution_count": 41,
     "metadata": {},
     "output_type": "execute_result"
    }
   ],
   "source": [
    "movies_info_df.head(3)"
   ]
  },
  {
   "cell_type": "code",
   "execution_count": 42,
   "metadata": {},
   "outputs": [
    {
     "data": {
      "text/plain": [
       "(1348, 26)"
      ]
     },
     "execution_count": 42,
     "metadata": {},
     "output_type": "execute_result"
    }
   ],
   "source": [
    "movies_info_df.shape\n"
   ]
  },
  {
   "cell_type": "code",
   "execution_count": 43,
   "metadata": {},
   "outputs": [
    {
     "data": {
      "text/plain": [
       "Index(['genre_ids', 'id_x', 'original_language', 'original_title',\n",
       "       'popularity', 'title', 'vote_average', 'vote_count', 'studio', 'year',\n",
       "       'id_y', 'release_date_y', 'production_budget', 'domestic_gross_y',\n",
       "       'worldwide_gross_y', 'id', 'synopsis', 'rating', 'genre', 'director',\n",
       "       'writer', 'theater_date', 'dvd_date', 'currency', 'box_office',\n",
       "       'runtime'],\n",
       "      dtype='object')"
      ]
     },
     "execution_count": 43,
     "metadata": {},
     "output_type": "execute_result"
    }
   ],
   "source": [
    "movies_info_df.columns"
   ]
  },
  {
   "cell_type": "markdown",
   "metadata": {},
   "source": [
    "###   cleaning the newly joined data frame"
   ]
  },
  {
   "cell_type": "code",
   "execution_count": 44,
   "metadata": {},
   "outputs": [
    {
     "data": {
      "text/plain": [
       "genre_ids               0\n",
       "id_x                    0\n",
       "original_language       0\n",
       "original_title          0\n",
       "popularity              0\n",
       "title                   0\n",
       "vote_average            0\n",
       "vote_count              0\n",
       "studio               1066\n",
       "year                    0\n",
       "id_y                    0\n",
       "release_date_y          0\n",
       "production_budget       0\n",
       "domestic_gross_y        0\n",
       "worldwide_gross_y       0\n",
       "id                      0\n",
       "synopsis               61\n",
       "rating                  3\n",
       "genre                   8\n",
       "director              145\n",
       "writer                349\n",
       "theater_date          442\n",
       "dvd_date              442\n",
       "currency             1177\n",
       "box_office           1177\n",
       "runtime                25\n",
       "dtype: int64"
      ]
     },
     "execution_count": 44,
     "metadata": {},
     "output_type": "execute_result"
    }
   ],
   "source": [
    "movies_info_df.isna().sum()"
   ]
  },
  {
   "cell_type": "code",
   "execution_count": 45,
   "metadata": {},
   "outputs": [],
   "source": [
    "movies_info_df['genre'].dropna(inplace=True)\n",
    "movies_info_df['runtime'].dropna(inplace=True)"
   ]
  },
  {
   "cell_type": "code",
   "execution_count": 46,
   "metadata": {},
   "outputs": [],
   "source": [
    "#dropping unnecessary columns\n",
    "\n",
    "movies_info_df.drop(columns='id_x',inplace=True)\n",
    "movies_info_df.drop(columns='original_language',inplace=True)\n"
   ]
  },
  {
   "cell_type": "code",
   "execution_count": 47,
   "metadata": {},
   "outputs": [],
   "source": [
    "movies_info_df.drop(columns='theater_date',inplace=True)\n",
    "movies_info_df.drop(columns='dvd_date',inplace=True)\n",
    "movies_info_df.drop(columns='currency',inplace=True)"
   ]
  },
  {
   "cell_type": "code",
   "execution_count": 48,
   "metadata": {},
   "outputs": [],
   "source": [
    "movies_info_df.drop(columns='box_office',inplace=True)"
   ]
  },
  {
   "cell_type": "code",
   "execution_count": 49,
   "metadata": {},
   "outputs": [],
   "source": [
    "movies_info_df.drop(columns='genre_ids',inplace=True)"
   ]
  },
  {
   "cell_type": "code",
   "execution_count": 50,
   "metadata": {},
   "outputs": [],
   "source": [
    "movies_info_df.drop(columns='id_y',inplace=True)"
   ]
  },
  {
   "cell_type": "code",
   "execution_count": 51,
   "metadata": {},
   "outputs": [
    {
     "data": {
      "text/html": [
       "<div>\n",
       "<style scoped>\n",
       "    .dataframe tbody tr th:only-of-type {\n",
       "        vertical-align: middle;\n",
       "    }\n",
       "\n",
       "    .dataframe tbody tr th {\n",
       "        vertical-align: top;\n",
       "    }\n",
       "\n",
       "    .dataframe thead th {\n",
       "        text-align: right;\n",
       "    }\n",
       "</style>\n",
       "<table border=\"1\" class=\"dataframe\">\n",
       "  <thead>\n",
       "    <tr style=\"text-align: right;\">\n",
       "      <th></th>\n",
       "      <th>original_title</th>\n",
       "      <th>popularity</th>\n",
       "      <th>title</th>\n",
       "      <th>vote_average</th>\n",
       "      <th>vote_count</th>\n",
       "      <th>studio</th>\n",
       "      <th>year</th>\n",
       "      <th>release_date_y</th>\n",
       "      <th>production_budget</th>\n",
       "      <th>domestic_gross_y</th>\n",
       "      <th>worldwide_gross_y</th>\n",
       "      <th>id</th>\n",
       "      <th>synopsis</th>\n",
       "      <th>rating</th>\n",
       "      <th>director</th>\n",
       "      <th>writer</th>\n",
       "      <th>runtime</th>\n",
       "    </tr>\n",
       "    <tr>\n",
       "      <th>genre</th>\n",
       "      <th></th>\n",
       "      <th></th>\n",
       "      <th></th>\n",
       "      <th></th>\n",
       "      <th></th>\n",
       "      <th></th>\n",
       "      <th></th>\n",
       "      <th></th>\n",
       "      <th></th>\n",
       "      <th></th>\n",
       "      <th></th>\n",
       "      <th></th>\n",
       "      <th></th>\n",
       "      <th></th>\n",
       "      <th></th>\n",
       "      <th></th>\n",
       "      <th></th>\n",
       "    </tr>\n",
       "  </thead>\n",
       "  <tbody>\n",
       "    <tr>\n",
       "      <th>Drama|Mystery and Suspense</th>\n",
       "      <td>The Peanuts Movie</td>\n",
       "      <td>11.344</td>\n",
       "      <td>The Peanuts Movie</td>\n",
       "      <td>6.6</td>\n",
       "      <td>894</td>\n",
       "      <td>Fox</td>\n",
       "      <td>2015</td>\n",
       "      <td>Nov 6, 2015</td>\n",
       "      <td>99000000</td>\n",
       "      <td>130178411.0</td>\n",
       "      <td>250091610</td>\n",
       "      <td>102</td>\n",
       "      <td>Aging, small town attorney Mac McClain (Matthe...</td>\n",
       "      <td>PG-13</td>\n",
       "      <td>Gary Wheeler</td>\n",
       "      <td>Mark Freiburger|Gary Wheeler|Robert Whitlow|Ma...</td>\n",
       "      <td>101 minutes</td>\n",
       "    </tr>\n",
       "    <tr>\n",
       "      <th>Drama|Mystery and Suspense</th>\n",
       "      <td>Alien: Covenant</td>\n",
       "      <td>24.651</td>\n",
       "      <td>Alien: Covenant</td>\n",
       "      <td>5.9</td>\n",
       "      <td>4971</td>\n",
       "      <td>Fox</td>\n",
       "      <td>2017</td>\n",
       "      <td>May 19, 2017</td>\n",
       "      <td>97000000</td>\n",
       "      <td>74262031.0</td>\n",
       "      <td>238521247</td>\n",
       "      <td>102</td>\n",
       "      <td>Aging, small town attorney Mac McClain (Matthe...</td>\n",
       "      <td>PG-13</td>\n",
       "      <td>Gary Wheeler</td>\n",
       "      <td>Mark Freiburger|Gary Wheeler|Robert Whitlow|Ma...</td>\n",
       "      <td>101 minutes</td>\n",
       "    </tr>\n",
       "    <tr>\n",
       "      <th>Drama|Mystery and Suspense</th>\n",
       "      <td>Unstoppable</td>\n",
       "      <td>0.600</td>\n",
       "      <td>Unstoppable</td>\n",
       "      <td>1.6</td>\n",
       "      <td>4</td>\n",
       "      <td>Fox</td>\n",
       "      <td>2010</td>\n",
       "      <td>Nov 12, 2010</td>\n",
       "      <td>95000000</td>\n",
       "      <td>81562942.0</td>\n",
       "      <td>165720921</td>\n",
       "      <td>102</td>\n",
       "      <td>Aging, small town attorney Mac McClain (Matthe...</td>\n",
       "      <td>PG-13</td>\n",
       "      <td>Gary Wheeler</td>\n",
       "      <td>Mark Freiburger|Gary Wheeler|Robert Whitlow|Ma...</td>\n",
       "      <td>101 minutes</td>\n",
       "    </tr>\n",
       "  </tbody>\n",
       "</table>\n",
       "</div>"
      ],
      "text/plain": [
       "                               original_title  popularity              title  \\\n",
       "genre                                                                          \n",
       "Drama|Mystery and Suspense  The Peanuts Movie      11.344  The Peanuts Movie   \n",
       "Drama|Mystery and Suspense    Alien: Covenant      24.651    Alien: Covenant   \n",
       "Drama|Mystery and Suspense        Unstoppable       0.600        Unstoppable   \n",
       "\n",
       "                            vote_average  vote_count studio  year  \\\n",
       "genre                                                               \n",
       "Drama|Mystery and Suspense           6.6         894    Fox  2015   \n",
       "Drama|Mystery and Suspense           5.9        4971    Fox  2017   \n",
       "Drama|Mystery and Suspense           1.6           4    Fox  2010   \n",
       "\n",
       "                           release_date_y production_budget  domestic_gross_y  \\\n",
       "genre                                                                           \n",
       "Drama|Mystery and Suspense    Nov 6, 2015          99000000       130178411.0   \n",
       "Drama|Mystery and Suspense   May 19, 2017          97000000        74262031.0   \n",
       "Drama|Mystery and Suspense   Nov 12, 2010          95000000        81562942.0   \n",
       "\n",
       "                           worldwide_gross_y   id  \\\n",
       "genre                                               \n",
       "Drama|Mystery and Suspense         250091610  102   \n",
       "Drama|Mystery and Suspense         238521247  102   \n",
       "Drama|Mystery and Suspense         165720921  102   \n",
       "\n",
       "                                                                     synopsis  \\\n",
       "genre                                                                           \n",
       "Drama|Mystery and Suspense  Aging, small town attorney Mac McClain (Matthe...   \n",
       "Drama|Mystery and Suspense  Aging, small town attorney Mac McClain (Matthe...   \n",
       "Drama|Mystery and Suspense  Aging, small town attorney Mac McClain (Matthe...   \n",
       "\n",
       "                           rating      director  \\\n",
       "genre                                             \n",
       "Drama|Mystery and Suspense  PG-13  Gary Wheeler   \n",
       "Drama|Mystery and Suspense  PG-13  Gary Wheeler   \n",
       "Drama|Mystery and Suspense  PG-13  Gary Wheeler   \n",
       "\n",
       "                                                                       writer  \\\n",
       "genre                                                                           \n",
       "Drama|Mystery and Suspense  Mark Freiburger|Gary Wheeler|Robert Whitlow|Ma...   \n",
       "Drama|Mystery and Suspense  Mark Freiburger|Gary Wheeler|Robert Whitlow|Ma...   \n",
       "Drama|Mystery and Suspense  Mark Freiburger|Gary Wheeler|Robert Whitlow|Ma...   \n",
       "\n",
       "                                runtime  \n",
       "genre                                    \n",
       "Drama|Mystery and Suspense  101 minutes  \n",
       "Drama|Mystery and Suspense  101 minutes  \n",
       "Drama|Mystery and Suspense  101 minutes  "
      ]
     },
     "execution_count": 51,
     "metadata": {},
     "output_type": "execute_result"
    }
   ],
   "source": [
    "movies_info_df.set_index('genre').head(3)"
   ]
  },
  {
   "cell_type": "code",
   "execution_count": 52,
   "metadata": {},
   "outputs": [],
   "source": [
    "#checking the new numner of rows and columns"
   ]
  },
  {
   "cell_type": "code",
   "execution_count": 53,
   "metadata": {},
   "outputs": [
    {
     "data": {
      "text/plain": [
       "(1348, 18)"
      ]
     },
     "execution_count": 53,
     "metadata": {},
     "output_type": "execute_result"
    }
   ],
   "source": [
    "movies_info_df.shape"
   ]
  },
  {
   "cell_type": "code",
   "execution_count": 54,
   "metadata": {},
   "outputs": [
    {
     "data": {
      "text/plain": [
       "17      84747441\n",
       "950    250091610\n",
       "21      84747441\n",
       "19      84747441\n",
       "703     11310835\n",
       "Name: worldwide_gross_y, dtype: object"
      ]
     },
     "execution_count": 54,
     "metadata": {},
     "output_type": "execute_result"
    }
   ],
   "source": [
    "movie_info_df['worldwide_gross_y'].head()"
   ]
  },
  {
   "cell_type": "code",
   "execution_count": 55,
   "metadata": {},
   "outputs": [],
   "source": [
    "movies_info_df['production_budget']=movies_info_df['production_budget'].astype(float)\n",
    "movies_info_df['worldwide_gross_y']=movies_info_df['worldwide_gross_y'].astype(float)"
   ]
  },
  {
   "cell_type": "code",
   "execution_count": 56,
   "metadata": {},
   "outputs": [
    {
     "data": {
      "text/plain": [
       "0"
      ]
     },
     "execution_count": 56,
     "metadata": {},
     "output_type": "execute_result"
    }
   ],
   "source": [
    "#looking if the columns are okay\n",
    "movies_info_df['production_budget'].isna().sum()\n"
   ]
  },
  {
   "cell_type": "code",
   "execution_count": 57,
   "metadata": {},
   "outputs": [
    {
     "data": {
      "text/plain": [
       "0"
      ]
     },
     "execution_count": 57,
     "metadata": {},
     "output_type": "execute_result"
    }
   ],
   "source": [
    "#checking if there are columns with zero values in the numeric columns\n",
    "zeros1=(movies_info_df['worldwide_gross_y']==0).sum()\n",
    "zeros1"
   ]
  },
  {
   "cell_type": "code",
   "execution_count": 58,
   "metadata": {},
   "outputs": [
    {
     "data": {
      "text/plain": [
       "0"
      ]
     },
     "execution_count": 58,
     "metadata": {},
     "output_type": "execute_result"
    }
   ],
   "source": [
    "zeros2=(movies_info_df['worldwide_gross_y']==0).sum()\n",
    "zeros2"
   ]
  },
  {
   "cell_type": "code",
   "execution_count": 59,
   "metadata": {},
   "outputs": [
    {
     "data": {
      "text/html": [
       "<div>\n",
       "<style scoped>\n",
       "    .dataframe tbody tr th:only-of-type {\n",
       "        vertical-align: middle;\n",
       "    }\n",
       "\n",
       "    .dataframe tbody tr th {\n",
       "        vertical-align: top;\n",
       "    }\n",
       "\n",
       "    .dataframe thead th {\n",
       "        text-align: right;\n",
       "    }\n",
       "</style>\n",
       "<table border=\"1\" class=\"dataframe\">\n",
       "  <thead>\n",
       "    <tr style=\"text-align: right;\">\n",
       "      <th></th>\n",
       "      <th>original_title</th>\n",
       "      <th>popularity</th>\n",
       "      <th>title</th>\n",
       "      <th>vote_average</th>\n",
       "      <th>vote_count</th>\n",
       "      <th>studio</th>\n",
       "      <th>year</th>\n",
       "      <th>release_date_y</th>\n",
       "      <th>production_budget</th>\n",
       "      <th>domestic_gross_y</th>\n",
       "      <th>worldwide_gross_y</th>\n",
       "      <th>id</th>\n",
       "      <th>synopsis</th>\n",
       "      <th>rating</th>\n",
       "      <th>genre</th>\n",
       "      <th>director</th>\n",
       "      <th>writer</th>\n",
       "      <th>runtime</th>\n",
       "    </tr>\n",
       "  </thead>\n",
       "  <tbody>\n",
       "    <tr>\n",
       "      <th>0</th>\n",
       "      <td>The Peanuts Movie</td>\n",
       "      <td>11.344</td>\n",
       "      <td>The Peanuts Movie</td>\n",
       "      <td>6.6</td>\n",
       "      <td>894</td>\n",
       "      <td>Fox</td>\n",
       "      <td>2015</td>\n",
       "      <td>Nov 6, 2015</td>\n",
       "      <td>99000000.0</td>\n",
       "      <td>130178411.0</td>\n",
       "      <td>250091610.0</td>\n",
       "      <td>102</td>\n",
       "      <td>Aging, small town attorney Mac McClain (Matthe...</td>\n",
       "      <td>PG-13</td>\n",
       "      <td>Drama|Mystery and Suspense</td>\n",
       "      <td>Gary Wheeler</td>\n",
       "      <td>Mark Freiburger|Gary Wheeler|Robert Whitlow|Ma...</td>\n",
       "      <td>101 minutes</td>\n",
       "    </tr>\n",
       "    <tr>\n",
       "      <th>1</th>\n",
       "      <td>Alien: Covenant</td>\n",
       "      <td>24.651</td>\n",
       "      <td>Alien: Covenant</td>\n",
       "      <td>5.9</td>\n",
       "      <td>4971</td>\n",
       "      <td>Fox</td>\n",
       "      <td>2017</td>\n",
       "      <td>May 19, 2017</td>\n",
       "      <td>97000000.0</td>\n",
       "      <td>74262031.0</td>\n",
       "      <td>238521247.0</td>\n",
       "      <td>102</td>\n",
       "      <td>Aging, small town attorney Mac McClain (Matthe...</td>\n",
       "      <td>PG-13</td>\n",
       "      <td>Drama|Mystery and Suspense</td>\n",
       "      <td>Gary Wheeler</td>\n",
       "      <td>Mark Freiburger|Gary Wheeler|Robert Whitlow|Ma...</td>\n",
       "      <td>101 minutes</td>\n",
       "    </tr>\n",
       "  </tbody>\n",
       "</table>\n",
       "</div>"
      ],
      "text/plain": [
       "      original_title  popularity              title  vote_average  vote_count  \\\n",
       "0  The Peanuts Movie      11.344  The Peanuts Movie           6.6         894   \n",
       "1    Alien: Covenant      24.651    Alien: Covenant           5.9        4971   \n",
       "\n",
       "  studio  year release_date_y  production_budget  domestic_gross_y  \\\n",
       "0    Fox  2015    Nov 6, 2015         99000000.0       130178411.0   \n",
       "1    Fox  2017   May 19, 2017         97000000.0        74262031.0   \n",
       "\n",
       "   worldwide_gross_y   id                                           synopsis  \\\n",
       "0        250091610.0  102  Aging, small town attorney Mac McClain (Matthe...   \n",
       "1        238521247.0  102  Aging, small town attorney Mac McClain (Matthe...   \n",
       "\n",
       "  rating                       genre      director  \\\n",
       "0  PG-13  Drama|Mystery and Suspense  Gary Wheeler   \n",
       "1  PG-13  Drama|Mystery and Suspense  Gary Wheeler   \n",
       "\n",
       "                                              writer      runtime  \n",
       "0  Mark Freiburger|Gary Wheeler|Robert Whitlow|Ma...  101 minutes  \n",
       "1  Mark Freiburger|Gary Wheeler|Robert Whitlow|Ma...  101 minutes  "
      ]
     },
     "execution_count": 59,
     "metadata": {},
     "output_type": "execute_result"
    }
   ],
   "source": [
    "movies_info_df.head(2)"
   ]
  },
  {
   "cell_type": "code",
   "execution_count": 60,
   "metadata": {},
   "outputs": [],
   "source": [
    "#dropping the missing values in the studio column\n",
    "movies_info_df['runtime']=movies_info_df['runtime'].dropna(axis=0,how='any')"
   ]
  },
  {
   "cell_type": "code",
   "execution_count": 61,
   "metadata": {},
   "outputs": [
    {
     "data": {
      "text/plain": [
       "0    101 minutes\n",
       "1    101 minutes\n",
       "Name: runtime, dtype: object"
      ]
     },
     "execution_count": 61,
     "metadata": {},
     "output_type": "execute_result"
    }
   ],
   "source": [
    "movies_info_df['runtime'].head(2)"
   ]
  },
  {
   "cell_type": "code",
   "execution_count": 62,
   "metadata": {},
   "outputs": [],
   "source": [
    "movies_info_df['runtime']=movies_info_df['runtime'].str.replace('minutes','',regex=True)\n",
    "movies_info_df['runtime']=movies_info_df['runtime'].astype(float)"
   ]
  },
  {
   "cell_type": "code",
   "execution_count": 63,
   "metadata": {},
   "outputs": [
    {
     "data": {
      "text/plain": [
       "0    101.0\n",
       "1    101.0\n",
       "2    101.0\n",
       "3    101.0\n",
       "Name: runtime, dtype: float64"
      ]
     },
     "execution_count": 63,
     "metadata": {},
     "output_type": "execute_result"
    }
   ],
   "source": [
    "movies_info_df['runtime'].head(4)"
   ]
  },
  {
   "cell_type": "markdown",
   "metadata": {},
   "source": [
    "# Exploratory analysis and visualization"
   ]
  },
  {
   "cell_type": "markdown",
   "metadata": {},
   "source": [
    "## ANALYSIS 1.Checking the most produced genres"
   ]
  },
  {
   "cell_type": "code",
   "execution_count": 64,
   "metadata": {},
   "outputs": [
    {
     "data": {
      "text/plain": [
       "254"
      ]
     },
     "execution_count": 64,
     "metadata": {},
     "output_type": "execute_result"
    }
   ],
   "source": [
    "movies_info_df['genre'].nunique()"
   ]
  },
  {
   "cell_type": "code",
   "execution_count": 65,
   "metadata": {},
   "outputs": [
    {
     "data": {
      "text/plain": [
       "Drama|Mystery and Suspense                         267\n",
       "Drama                                               86\n",
       "Comedy|Drama                                        73\n",
       "Comedy                                              57\n",
       "Art House and International|Drama                   53\n",
       "Action and Adventure|Drama                          29\n",
       "Action and Adventure|Drama|Mystery and Suspense     28\n",
       "Drama|Romance                                       26\n",
       "Art House and International|Comedy|Drama            25\n",
       "Horror                                              23\n",
       "Drama|Horror                                        22\n",
       "Classics|Drama                                      19\n",
       "Classics|Drama|Mystery and Suspense                 18\n",
       "Comedy|Romance                                      18\n",
       "Action and Adventure                                18\n",
       "Name: genre, dtype: int64"
      ]
     },
     "execution_count": 65,
     "metadata": {},
     "output_type": "execute_result"
    }
   ],
   "source": [
    "top_15_genres=movies_info_df['genre'].value_counts().head(15)\n",
    "top_15_genres"
   ]
  },
  {
   "cell_type": "code",
   "execution_count": 142,
   "metadata": {},
   "outputs": [
    {
     "data": {
      "image/png": "[encoded data removed]",
      "text/plain": [
       "<Figure size 1008x504 with 1 Axes>"
      ]
     },
     "metadata": {
      "needs_background": "light"
     },
     "output_type": "display_data"
    }
   ],
   "source": [
    "plt.figure(figsize=(14,7))\n",
    "ax=sns.barplot(y=top_15_genres.index, x= top_15_genres,color='slateblue')\n",
    "plt.xlabel('Number Of Movies',fontsize=12)\n",
    "plt.ylabel('Genre',fontsize=12)\n",
    "plt.title('Number Of Movies According To Genre',fontsize=14)\n",
    "plt.savefig('Genre Count.png')"
   ]
  },
  {
   "cell_type": "markdown",
   "metadata": {},
   "source": [
    "Drama related movies,mystery and suspense,comedy and Art house and international movies are the produced genres.\n",
    "but are they the most profitable genres?.Let us see.."
   ]
  },
  {
   "cell_type": "markdown",
   "metadata": {},
   "source": [
    "## ANALYSIS 2:checking if the most produced genres are the most profitable genres"
   ]
  },
  {
   "cell_type": "code",
   "execution_count": 71,
   "metadata": {},
   "outputs": [],
   "source": [
    "#grouping by genre to solve this\n",
    "profit_df=movies_info_df.groupby('genre',as_index=False)[['production_budget','worldwide_gross_y','profit']].mean().sort_values(by='production_budget',ascending=False)"
   ]
  },
  {
   "cell_type": "code",
   "execution_count": 70,
   "metadata": {},
   "outputs": [],
   "source": [
    "#addding the profits column\n",
    "movies_info_df['profit']=(movies_info_df['worldwide_gross_y']+movies_info_df['domestic_gross_y'])-movies_info_df['production_budget']"
   ]
  },
  {
   "cell_type": "code",
   "execution_count": 72,
   "metadata": {},
   "outputs": [
    {
     "data": {
      "text/plain": [
       "Index(['original_title', 'popularity', 'title', 'vote_average', 'vote_count',\n",
       "       'studio', 'year', 'release_date_y', 'production_budget',\n",
       "       'domestic_gross_y', 'worldwide_gross_y', 'id', 'synopsis', 'rating',\n",
       "       'genre', 'director', 'writer', 'runtime', 'profit'],\n",
       "      dtype='object')"
      ]
     },
     "execution_count": 72,
     "metadata": {},
     "output_type": "execute_result"
    }
   ],
   "source": [
    "#checking if the profit column has been added\n",
    "movies_info_df.columns"
   ]
  },
  {
   "cell_type": "code",
   "execution_count": 73,
   "metadata": {},
   "outputs": [
    {
     "data": {
      "text/plain": [
       "(254, 4)"
      ]
     },
     "execution_count": 73,
     "metadata": {},
     "output_type": "execute_result"
    }
   ],
   "source": [
    "profit_df.shape"
   ]
  },
  {
   "cell_type": "code",
   "execution_count": 74,
   "metadata": {},
   "outputs": [],
   "source": [
    "top_15_profit_df=profit_df.head(15)"
   ]
  },
  {
   "cell_type": "code",
   "execution_count": 75,
   "metadata": {},
   "outputs": [
    {
     "data": {
      "text/html": [
       "<div>\n",
       "<style scoped>\n",
       "    .dataframe tbody tr th:only-of-type {\n",
       "        vertical-align: middle;\n",
       "    }\n",
       "\n",
       "    .dataframe tbody tr th {\n",
       "        vertical-align: top;\n",
       "    }\n",
       "\n",
       "    .dataframe thead th {\n",
       "        text-align: right;\n",
       "    }\n",
       "</style>\n",
       "<table border=\"1\" class=\"dataframe\">\n",
       "  <thead>\n",
       "    <tr style=\"text-align: right;\">\n",
       "      <th></th>\n",
       "      <th>genre</th>\n",
       "      <th>production_budget</th>\n",
       "      <th>worldwide_gross_y</th>\n",
       "      <th>profit</th>\n",
       "    </tr>\n",
       "  </thead>\n",
       "  <tbody>\n",
       "    <tr>\n",
       "      <th>227</th>\n",
       "      <td>Drama|Mystery and Suspense</td>\n",
       "      <td>6.315431e+07</td>\n",
       "      <td>1.897898e+08</td>\n",
       "      <td>1.991134e+08</td>\n",
       "    </tr>\n",
       "    <tr>\n",
       "      <th>105</th>\n",
       "      <td>Art House and International|Comedy|Drama|Music...</td>\n",
       "      <td>3.133333e+07</td>\n",
       "      <td>9.438215e+07</td>\n",
       "      <td>1.183897e+08</td>\n",
       "    </tr>\n",
       "    <tr>\n",
       "      <th>220</th>\n",
       "      <td>Drama|Horror|Mystery and Suspense</td>\n",
       "      <td>1.577778e+07</td>\n",
       "      <td>3.385218e+07</td>\n",
       "      <td>3.654595e+07</td>\n",
       "    </tr>\n",
       "    <tr>\n",
       "      <th>74</th>\n",
       "      <td>Action and Adventure|Mystery and Suspense</td>\n",
       "      <td>1.436364e+07</td>\n",
       "      <td>2.834945e+07</td>\n",
       "      <td>2.910561e+07</td>\n",
       "    </tr>\n",
       "    <tr>\n",
       "      <th>231</th>\n",
       "      <td>Drama|Romance</td>\n",
       "      <td>1.069231e+07</td>\n",
       "      <td>1.406353e+07</td>\n",
       "      <td>9.789339e+06</td>\n",
       "    </tr>\n",
       "    <tr>\n",
       "      <th>53</th>\n",
       "      <td>Action and Adventure|Drama</td>\n",
       "      <td>1.041379e+07</td>\n",
       "      <td>1.297977e+07</td>\n",
       "      <td>8.323967e+06</td>\n",
       "    </tr>\n",
       "    <tr>\n",
       "      <th>182</th>\n",
       "      <td>Comedy|Drama</td>\n",
       "      <td>9.912603e+06</td>\n",
       "      <td>1.342146e+07</td>\n",
       "      <td>8.075204e+06</td>\n",
       "    </tr>\n",
       "    <tr>\n",
       "      <th>217</th>\n",
       "      <td>Drama</td>\n",
       "      <td>8.813953e+06</td>\n",
       "      <td>6.754457e+06</td>\n",
       "      <td>-9.340326e+04</td>\n",
       "    </tr>\n",
       "    <tr>\n",
       "      <th>166</th>\n",
       "      <td>Classics|Horror</td>\n",
       "      <td>8.000000e+06</td>\n",
       "      <td>3.587191e+06</td>\n",
       "      <td>-4.375925e+06</td>\n",
       "    </tr>\n",
       "    <tr>\n",
       "      <th>168</th>\n",
       "      <td>Classics|Horror|Mystery and Suspense</td>\n",
       "      <td>8.000000e+06</td>\n",
       "      <td>3.587191e+06</td>\n",
       "      <td>-4.375925e+06</td>\n",
       "    </tr>\n",
       "    <tr>\n",
       "      <th>167</th>\n",
       "      <td>Classics|Horror|Musical and Performing Arts|Sc...</td>\n",
       "      <td>8.000000e+06</td>\n",
       "      <td>3.587191e+06</td>\n",
       "      <td>-4.375925e+06</td>\n",
       "    </tr>\n",
       "    <tr>\n",
       "      <th>164</th>\n",
       "      <td>Classics|Drama|Science Fiction and Fantasy</td>\n",
       "      <td>8.000000e+06</td>\n",
       "      <td>3.587191e+06</td>\n",
       "      <td>-4.375925e+06</td>\n",
       "    </tr>\n",
       "    <tr>\n",
       "      <th>165</th>\n",
       "      <td>Classics|Drama|Western</td>\n",
       "      <td>8.000000e+06</td>\n",
       "      <td>3.587191e+06</td>\n",
       "      <td>-4.375925e+06</td>\n",
       "    </tr>\n",
       "    <tr>\n",
       "      <th>170</th>\n",
       "      <td>Classics|Horror|Science Fiction and Fantasy</td>\n",
       "      <td>8.000000e+06</td>\n",
       "      <td>3.587191e+06</td>\n",
       "      <td>-4.375925e+06</td>\n",
       "    </tr>\n",
       "    <tr>\n",
       "      <th>163</th>\n",
       "      <td>Classics|Drama|Romance</td>\n",
       "      <td>8.000000e+06</td>\n",
       "      <td>3.587191e+06</td>\n",
       "      <td>-4.375925e+06</td>\n",
       "    </tr>\n",
       "  </tbody>\n",
       "</table>\n",
       "</div>"
      ],
      "text/plain": [
       "                                                 genre  production_budget  \\\n",
       "227                         Drama|Mystery and Suspense       6.315431e+07   \n",
       "105  Art House and International|Comedy|Drama|Music...       3.133333e+07   \n",
       "220                  Drama|Horror|Mystery and Suspense       1.577778e+07   \n",
       "74           Action and Adventure|Mystery and Suspense       1.436364e+07   \n",
       "231                                      Drama|Romance       1.069231e+07   \n",
       "53                          Action and Adventure|Drama       1.041379e+07   \n",
       "182                                       Comedy|Drama       9.912603e+06   \n",
       "217                                              Drama       8.813953e+06   \n",
       "166                                    Classics|Horror       8.000000e+06   \n",
       "168               Classics|Horror|Mystery and Suspense       8.000000e+06   \n",
       "167  Classics|Horror|Musical and Performing Arts|Sc...       8.000000e+06   \n",
       "164         Classics|Drama|Science Fiction and Fantasy       8.000000e+06   \n",
       "165                             Classics|Drama|Western       8.000000e+06   \n",
       "170        Classics|Horror|Science Fiction and Fantasy       8.000000e+06   \n",
       "163                             Classics|Drama|Romance       8.000000e+06   \n",
       "\n",
       "     worldwide_gross_y        profit  \n",
       "227       1.897898e+08  1.991134e+08  \n",
       "105       9.438215e+07  1.183897e+08  \n",
       "220       3.385218e+07  3.654595e+07  \n",
       "74        2.834945e+07  2.910561e+07  \n",
       "231       1.406353e+07  9.789339e+06  \n",
       "53        1.297977e+07  8.323967e+06  \n",
       "182       1.342146e+07  8.075204e+06  \n",
       "217       6.754457e+06 -9.340326e+04  \n",
       "166       3.587191e+06 -4.375925e+06  \n",
       "168       3.587191e+06 -4.375925e+06  \n",
       "167       3.587191e+06 -4.375925e+06  \n",
       "164       3.587191e+06 -4.375925e+06  \n",
       "165       3.587191e+06 -4.375925e+06  \n",
       "170       3.587191e+06 -4.375925e+06  \n",
       "163       3.587191e+06 -4.375925e+06  "
      ]
     },
     "execution_count": 75,
     "metadata": {},
     "output_type": "execute_result"
    }
   ],
   "source": [
    "top_15_profit_df=top_15_profit_df.sort_values(by='profit',ascending=False)\n",
    "top_15_profit_df"
   ]
  },
  {
   "cell_type": "code",
   "execution_count": 144,
   "metadata": {},
   "outputs": [
    {
     "data": {
      "image/png": "[encoded data removed]",
      "text/plain": [
       "<Figure size 1440x720 with 1 Axes>"
      ]
     },
     "metadata": {
      "needs_background": "light"
     },
     "output_type": "display_data"
    }
   ],
   "source": [
    "#between genre and profit\n",
    "plt.figure(figsize=(20,10))\n",
    "\n",
    "ax=sns.barplot(x=top_15_profit_df['genre'], y=top_15_profit_df['profit'])\n",
    "plt.ylabel('profit',fontsize=12)\n",
    "plt.xlabel('genre',fontsize=12)\n",
    "plt.title('Genre vs Profit',fontsize=14)\n",
    "plt.xticks(rotation=85,fontsize=12);\n",
    "plt.savefig('Genre vs Profit.png')"
   ]
  },
  {
   "cell_type": "code",
   "execution_count": 153,
   "metadata": {},
   "outputs": [
    {
     "data": {
      "image/png": "[encoded data removed]",
      "text/plain": [
       "<Figure size 1440x720 with 1 Axes>"
      ]
     },
     "metadata": {
      "needs_background": "light"
     },
     "output_type": "display_data"
    }
   ],
   "source": [
    "#a line graph of genre vs profit\n",
    "plt.figure(figsize=(20,10))\n",
    "\n",
    "ax=sns.lineplot(x=top_15_profit_df['genre'], y=top_15_profit_df['profit'])\n",
    "plt.ylabel('profit',fontsize=12)\n",
    "plt.xlabel('genre',fontsize=12)\n",
    "plt.title('Genre vs Profit',fontsize=14)\n",
    "plt.xticks(rotation=85,fontsize=12);\n",
    "plt.grid()\n",
    "plt.savefig('Genre vs Profit line graph.png')"
   ]
  },
  {
   "cell_type": "markdown",
   "metadata": {},
   "source": [
    "Drama is indeed the most profitable genre,or drama related movies are very profitable in terms of the mean profit.\n",
    "Action and comedy follow closely too.\n",
    "I recommend Microsoft to look into producing drama related movies with comedy,Action,mystery and suspense because\n",
    "apart from being the most produced genres,they are also very profitable."
   ]
  },
  {
   "cell_type": "markdown",
   "metadata": {},
   "source": [
    "## ANALYSIS 3:checking if more production bugdet translates to higher profit"
   ]
  },
  {
   "cell_type": "code",
   "execution_count": 146,
   "metadata": {},
   "outputs": [],
   "source": [
    "#checking for correlation between production budget and profit using a scatter plot"
   ]
  },
  {
   "cell_type": "code",
   "execution_count": 144,
   "metadata": {},
   "outputs": [
    {
     "data": {
      "image/png": "[encoded data removed]",
      "text/plain": [
       "<Figure size 1008x504 with 1 Axes>"
      ]
     },
     "metadata": {
      "needs_background": "light"
     },
     "output_type": "display_data"
    }
   ],
   "source": [
    "#does spending on the budget relate to higher profits?\n",
    "plt.figure(figsize=(14,7))\n",
    "ax=sns.regplot(y=movies_info_df['profit'], x=movies_info_df['production_budget'])\n",
    "plt.xlabel('production budget',fontsize=12)\n",
    "plt.ylabel('profit',fontsize=12)\n",
    "plt.title('production budget vs profit',fontsize=14)\n",
    "plt.savefig('production budget vs profit.png')"
   ]
  },
  {
   "cell_type": "markdown",
   "metadata": {},
   "source": [
    "This shows that an increase in production budget leads to a corresponding increase in profit,the two \n",
    "variables have a strong relationship.\n",
    "So Microsoft should keep this in mind while producing."
   ]
  },
  {
   "cell_type": "markdown",
   "metadata": {},
   "source": [
    "## ANALYSIS 4: checking for most expensive genres to produce"
   ]
  },
  {
   "cell_type": "code",
   "execution_count": 91,
   "metadata": {},
   "outputs": [
    {
     "data": {
      "image/png": "[encoded data removed]",
      "text/plain": [
       "<Figure size 1440x720 with 1 Axes>"
      ]
     },
     "metadata": {
      "needs_background": "light"
     },
     "output_type": "display_data"
    }
   ],
   "source": [
    "plt.figure(figsize=(20,10))\n",
    "\n",
    "ax=sns.barplot(x=top_15_profit_df['genre'], y=top_15_profit_df['production_budget'],palette='Reds')\n",
    "plt.ylabel('production_budget',fontsize=12)\n",
    "plt.xlabel('genre',fontsize=12)\n",
    "plt.title('Genre vs Production budget',fontsize=14)\n",
    "plt.xticks(rotation=85,fontsize=12);\n",
    "plt.savefig('Genre vs production budget.png')"
   ]
  },
  {
   "cell_type": "code",
   "execution_count": 102,
   "metadata": {},
   "outputs": [
    {
     "data": {
      "text/plain": [
       "'RECOMMENDATION:As much as Drama,mystery and suspense ,Horror and comedy are most expensive,we have seen \\nabove that they have the most returns and I recommend the genres above.'"
      ]
     },
     "execution_count": 102,
     "metadata": {},
     "output_type": "execute_result"
    }
   ],
   "source": [
    "\"\"\"RECOMMENDATION:As much as Drama,mystery and suspense ,Horror and comedy are most expensive,we have seen \n",
    "above that they have the most returns and I recommend the genres above.\"\"\""
   ]
  },
  {
   "cell_type": "markdown",
   "metadata": {},
   "source": [
    "## ANALYSIS 5:Checking if the runtime can affect the profit "
   ]
  },
  {
   "cell_type": "code",
   "execution_count": 103,
   "metadata": {},
   "outputs": [],
   "source": [
    "#adding a runtime column in the profit data frame\n",
    "profit_df['runtime']=movies_info_df['runtime']"
   ]
  },
  {
   "cell_type": "code",
   "execution_count": 104,
   "metadata": {},
   "outputs": [],
   "source": [
    "profit_df.drop(columns='runtime',inplace=True)"
   ]
  },
  {
   "cell_type": "code",
   "execution_count": 105,
   "metadata": {},
   "outputs": [
    {
     "data": {
      "text/plain": [
       "0    101.0\n",
       "1    101.0\n",
       "Name: runtime, dtype: float64"
      ]
     },
     "execution_count": 105,
     "metadata": {},
     "output_type": "execute_result"
    }
   ],
   "source": [
    "movies_info_df['runtime'].head(2)"
   ]
  },
  {
   "cell_type": "code",
   "execution_count": null,
   "metadata": {},
   "outputs": [],
   "source": [
    "#groping by run time and only displaying the columns i need in analysis"
   ]
  },
  {
   "cell_type": "code",
   "execution_count": 106,
   "metadata": {},
   "outputs": [],
   "source": [
    "runtime_df=movies_info_df.groupby('runtime',as_index=False)[['production_budget','worldwide_gross_y','profit']].mean().sort_values(by='profit',ascending=False)"
   ]
  },
  {
   "cell_type": "code",
   "execution_count": 107,
   "metadata": {},
   "outputs": [
    {
     "name": "stdout",
     "output_type": "stream",
     "text": [
      "<class 'pandas.core.frame.DataFrame'>\n",
      "Int64Index: 10 entries, 92 to 46\n",
      "Data columns (total 4 columns):\n",
      " #   Column             Non-Null Count  Dtype  \n",
      "---  ------             --------------  -----  \n",
      " 0   runtime            10 non-null     float64\n",
      " 1   production_budget  10 non-null     float64\n",
      " 2   worldwide_gross_y  10 non-null     float64\n",
      " 3   profit             10 non-null     float64\n",
      "dtypes: float64(4)\n",
      "memory usage: 400.0 bytes\n"
     ]
    }
   ],
   "source": [
    "#setting the data frame to have only 10 elements.\n",
    "runtime_df=runtime_df.head(10)\n",
    "runtime_df.info()"
   ]
  },
  {
   "cell_type": "code",
   "execution_count": 108,
   "metadata": {},
   "outputs": [
    {
     "data": {
      "text/plain": [
       "Text(0.5, 1.0, 'run_time vs profit')"
      ]
     },
     "execution_count": 108,
     "metadata": {},
     "output_type": "execute_result"
    },
    {
     "data": {
      "image/png": "[encoded data removed]",
      "text/plain": [
       "<Figure size 1008x504 with 1 Axes>"
      ]
     },
     "metadata": {
      "needs_background": "light"
     },
     "output_type": "display_data"
    }
   ],
   "source": [
    "#do a reg plot to check the if the relationship is linear\n",
    "plt.figure(figsize=(14,7))\n",
    "ax=sns.regplot(y=movies_info_df['profit'], x=movies_info_df['runtime'])\n",
    "plt.xlabel('run time',fontsize=12)\n",
    "plt.ylabel('moneymade',fontsize=12)\n",
    "plt.title('run_time vs profit',fontsize=14)\n"
   ]
  },
  {
   "cell_type": "markdown",
   "metadata": {},
   "source": [
    "There is a small positive correlation between the run time and the profits,however it is not strong \n",
    "enough to affect the profit.The relationship is very weak"
   ]
  },
  {
   "cell_type": "code",
   "execution_count": 110,
   "metadata": {},
   "outputs": [],
   "source": [
    "#plotting a line graph just to be sure"
   ]
  },
  {
   "cell_type": "code",
   "execution_count": 111,
   "metadata": {},
   "outputs": [
    {
     "data": {
      "text/plain": [
       "Text(0.5, 1.0, 'run_time vs profit')"
      ]
     },
     "execution_count": 111,
     "metadata": {},
     "output_type": "execute_result"
    },
    {
     "data": {
      "image/png": "[encoded data removed]",
      "text/plain": [
       "<Figure size 1008x504 with 1 Axes>"
      ]
     },
     "metadata": {
      "needs_background": "light"
     },
     "output_type": "display_data"
    }
   ],
   "source": [
    "plt.figure(figsize=(14,7))\n",
    "ax=sns.lineplot(y=runtime_df['profit'], x=runtime_df['runtime'])\n",
    "plt.xlabel('run time',fontsize=12)\n",
    "plt.ylabel('Money_made',fontsize=12)\n",
    "plt.title('run_time vs profit',fontsize=14)\n"
   ]
  },
  {
   "cell_type": "markdown",
   "metadata": {},
   "source": [
    "The relationship is not linear at all and that means the run time does not neccesarily affect \n",
    "the profit"
   ]
  },
  {
   "cell_type": "code",
   "execution_count": 113,
   "metadata": {},
   "outputs": [
    {
     "data": {
      "image/png": "[encoded data removed]",
      "text/plain": [
       "<Figure size 1008x504 with 1 Axes>"
      ]
     },
     "metadata": {
      "needs_background": "light"
     },
     "output_type": "display_data"
    }
   ],
   "source": [
    "#another bar graph of runtime vs profit\n",
    "plt.figure(figsize=(14,7))\n",
    "ax=sns.barplot(y=runtime_df['profit'], x=runtime_df['runtime'],palette='Greens')\n",
    "plt.xlabel('run time',fontsize=12)\n",
    "plt.ylabel('moneymade',fontsize=12)\n",
    "plt.title('run_time vs profit',fontsize=14)\n",
    "plt.savefig('runtime vs profit.png')"
   ]
  },
  {
   "cell_type": "markdown",
   "metadata": {},
   "source": [
    "Bonus plot for confirmation,there is no linear relationship between the run time and profit."
   ]
  },
  {
   "cell_type": "markdown",
   "metadata": {},
   "source": [
    "## ANALYSIS 6: Checking whether movie rating affect profit"
   ]
  },
  {
   "cell_type": "code",
   "execution_count": 115,
   "metadata": {},
   "outputs": [],
   "source": [
    "#grouping by rating and only extracting the columns i need in this analysis\n",
    "rating_df=movies_info_df.groupby('rating',as_index=False)[['production_budget','worldwide_gross_y']].mean()"
   ]
  },
  {
   "cell_type": "code",
   "execution_count": 116,
   "metadata": {
    "scrolled": true
   },
   "outputs": [
    {
     "data": {
      "text/html": [
       "<div>\n",
       "<style scoped>\n",
       "    .dataframe tbody tr th:only-of-type {\n",
       "        vertical-align: middle;\n",
       "    }\n",
       "\n",
       "    .dataframe tbody tr th {\n",
       "        vertical-align: top;\n",
       "    }\n",
       "\n",
       "    .dataframe thead th {\n",
       "        text-align: right;\n",
       "    }\n",
       "</style>\n",
       "<table border=\"1\" class=\"dataframe\">\n",
       "  <thead>\n",
       "    <tr style=\"text-align: right;\">\n",
       "      <th></th>\n",
       "      <th>rating</th>\n",
       "      <th>production_budget</th>\n",
       "      <th>worldwide_gross_y</th>\n",
       "    </tr>\n",
       "  </thead>\n",
       "  <tbody>\n",
       "    <tr>\n",
       "      <th>0</th>\n",
       "      <td>G</td>\n",
       "      <td>8.000000e+06</td>\n",
       "      <td>3.587191e+06</td>\n",
       "    </tr>\n",
       "    <tr>\n",
       "      <th>1</th>\n",
       "      <td>NR</td>\n",
       "      <td>8.292704e+06</td>\n",
       "      <td>5.092227e+06</td>\n",
       "    </tr>\n",
       "    <tr>\n",
       "      <th>2</th>\n",
       "      <td>PG</td>\n",
       "      <td>8.424242e+06</td>\n",
       "      <td>5.238009e+06</td>\n",
       "    </tr>\n",
       "    <tr>\n",
       "      <th>3</th>\n",
       "      <td>PG-13</td>\n",
       "      <td>4.210190e+07</td>\n",
       "      <td>1.331678e+08</td>\n",
       "    </tr>\n",
       "    <tr>\n",
       "      <th>4</th>\n",
       "      <td>R</td>\n",
       "      <td>2.553527e+07</td>\n",
       "      <td>5.729518e+07</td>\n",
       "    </tr>\n",
       "  </tbody>\n",
       "</table>\n",
       "</div>"
      ],
      "text/plain": [
       "  rating  production_budget  worldwide_gross_y\n",
       "0      G       8.000000e+06       3.587191e+06\n",
       "1     NR       8.292704e+06       5.092227e+06\n",
       "2     PG       8.424242e+06       5.238009e+06\n",
       "3  PG-13       4.210190e+07       1.331678e+08\n",
       "4      R       2.553527e+07       5.729518e+07"
      ]
     },
     "execution_count": 116,
     "metadata": {},
     "output_type": "execute_result"
    }
   ],
   "source": [
    "rating_df"
   ]
  },
  {
   "cell_type": "code",
   "execution_count": 117,
   "metadata": {},
   "outputs": [],
   "source": [
    "#checking which rating has most profit."
   ]
  },
  {
   "cell_type": "code",
   "execution_count": 82,
   "metadata": {},
   "outputs": [
    {
     "data": {
      "image/png": "[encoded data removed]",
      "text/plain": [
       "<Figure size 1008x504 with 1 Axes>"
      ]
     },
     "metadata": {
      "needs_background": "light"
     },
     "output_type": "display_data"
    }
   ],
   "source": [
    "plt.figure(figsize=(14,7))\n",
    "ax=sns.barplot(y=rating_df['rating'], x=rating_df['worldwide_gross_y'],palette='Oranges')\n",
    "plt.xlabel('profit',fontsize=12)\n",
    "plt.ylabel('rating',fontsize=12)\n",
    "plt.title('rating vs profit',fontsize=14)\n",
    "plt.savefig('rating vs profit.png')"
   ]
  },
  {
   "cell_type": "markdown",
   "metadata": {},
   "source": [
    "From my analysis,R-Rated movies and PG-13 rated movies make the most profit as compared to G and NR movies. Microsoft should consider the rating of the movie depending on the target market because they make the most profit. I recommend PG-13 and R rated movies because they make the highest returns."
   ]
  },
  {
   "cell_type": "markdown",
   "metadata": {},
   "source": [
    "### checking whether rating affect bugdet"
   ]
  },
  {
   "cell_type": "code",
   "execution_count": null,
   "metadata": {},
   "outputs": [],
   "source": [
    "#plotting a bar graph to see which rating has the highest budget"
   ]
  },
  {
   "cell_type": "code",
   "execution_count": 84,
   "metadata": {},
   "outputs": [
    {
     "data": {
      "image/png": "[encoded data removed]",
      "text/plain": [
       "<Figure size 1008x504 with 1 Axes>"
      ]
     },
     "metadata": {
      "needs_background": "light"
     },
     "output_type": "display_data"
    }
   ],
   "source": [
    "plt.figure(figsize=(14,7))\n",
    "ax=sns.barplot(x=rating_df['rating'], y=rating_df['production_budget'],palette='Purples')\n",
    "plt.ylabel('production_project',fontsize=12)\n",
    "plt.xlabel('rating',fontsize=12)\n",
    "plt.title('rating vs production budget',fontsize=14)\n",
    "plt.savefig('movie rating vs production budget.png')"
   ]
  },
  {
   "cell_type": "markdown",
   "metadata": {},
   "source": [
    "The R-Rated movies and PG-13 are more expensive to produce but they also have the highest returns."
   ]
  },
  {
   "cell_type": "code",
   "execution_count": 145,
   "metadata": {},
   "outputs": [
    {
     "data": {
      "image/png": "[encoded data removed]",
      "text/plain": [
       "<Figure size 1008x504 with 1 Axes>"
      ]
     },
     "metadata": {
      "needs_background": "light"
     },
     "output_type": "display_data"
    }
   ],
   "source": [
    "#another line graph to see which movie rating is expensive to create\n",
    "plt.figure(figsize=(14,7))\n",
    "ax=sns.lineplot(x=rating_df['rating'], y=rating_df['production_budget'],palette='Purples')\n",
    "plt.xlabel('profit',fontsize=12)\n",
    "plt.ylabel('rating',fontsize=12)\n",
    "plt.title('rating vs profit',fontsize=14)\n",
    "plt.grid()\n",
    "plt.savefig('movie rating vs profit line graph.png')"
   ]
  },
  {
   "cell_type": "markdown",
   "metadata": {},
   "source": [
    "PG-13 and R rated movies are the most expensive to produce according to the graph above."
   ]
  },
  {
   "cell_type": "markdown",
   "metadata": {},
   "source": [
    "## ANALYSIS 7:Checking if time of the year movie is produced affects profit"
   ]
  },
  {
   "cell_type": "code",
   "execution_count": 118,
   "metadata": {},
   "outputs": [],
   "source": [
    "#changing the date format this column to type datetime\n",
    "movies_info_df['release_date_y']=pd.to_datetime(movies_info_df['release_date_y'])"
   ]
  },
  {
   "cell_type": "code",
   "execution_count": 119,
   "metadata": {},
   "outputs": [
    {
     "data": {
      "text/plain": [
       "0   2015-11-06\n",
       "1   2017-05-19\n",
       "2   2010-11-12\n",
       "3   2010-11-12\n",
       "4   2012-07-13\n",
       "Name: release_date_y, dtype: datetime64[ns]"
      ]
     },
     "execution_count": 119,
     "metadata": {},
     "output_type": "execute_result"
    }
   ],
   "source": [
    "#checking if it has worked\n",
    "movies_info_df['release_date_y'].head()"
   ]
  },
  {
   "cell_type": "code",
   "execution_count": 120,
   "metadata": {},
   "outputs": [],
   "source": [
    "#showing only the month in the dates\n",
    "months=[dates.strftime('%B') for dates in movies_info_df['release_date_y']]"
   ]
  },
  {
   "cell_type": "code",
   "execution_count": 121,
   "metadata": {},
   "outputs": [],
   "source": [
    "#creating a new column in the movies_info_df to show only the months I created in the cell above\n",
    "movies_info_df['month']=months"
   ]
  },
  {
   "cell_type": "code",
   "execution_count": 122,
   "metadata": {},
   "outputs": [],
   "source": [
    "#grouping by month and extraction only the worldwisde gross column to plot \n",
    "month_profit_df=movies_info_df.groupby('month',as_index=False)['worldwide_gross_y'].mean()"
   ]
  },
  {
   "cell_type": "code",
   "execution_count": 123,
   "metadata": {},
   "outputs": [
    {
     "data": {
      "text/html": [
       "<div>\n",
       "<style scoped>\n",
       "    .dataframe tbody tr th:only-of-type {\n",
       "        vertical-align: middle;\n",
       "    }\n",
       "\n",
       "    .dataframe tbody tr th {\n",
       "        vertical-align: top;\n",
       "    }\n",
       "\n",
       "    .dataframe thead th {\n",
       "        text-align: right;\n",
       "    }\n",
       "</style>\n",
       "<table border=\"1\" class=\"dataframe\">\n",
       "  <thead>\n",
       "    <tr style=\"text-align: right;\">\n",
       "      <th></th>\n",
       "      <th>month</th>\n",
       "      <th>worldwide_gross_y</th>\n",
       "    </tr>\n",
       "  </thead>\n",
       "  <tbody>\n",
       "    <tr>\n",
       "      <th>0</th>\n",
       "      <td>April</td>\n",
       "      <td>9.921989e+07</td>\n",
       "    </tr>\n",
       "    <tr>\n",
       "      <th>1</th>\n",
       "      <td>August</td>\n",
       "      <td>1.367628e+08</td>\n",
       "    </tr>\n",
       "    <tr>\n",
       "      <th>2</th>\n",
       "      <td>December</td>\n",
       "      <td>2.436402e+08</td>\n",
       "    </tr>\n",
       "    <tr>\n",
       "      <th>3</th>\n",
       "      <td>February</td>\n",
       "      <td>1.684843e+08</td>\n",
       "    </tr>\n",
       "    <tr>\n",
       "      <th>4</th>\n",
       "      <td>January</td>\n",
       "      <td>1.442684e+08</td>\n",
       "    </tr>\n",
       "    <tr>\n",
       "      <th>5</th>\n",
       "      <td>July</td>\n",
       "      <td>3.225204e+08</td>\n",
       "    </tr>\n",
       "    <tr>\n",
       "      <th>6</th>\n",
       "      <td>June</td>\n",
       "      <td>2.219695e+08</td>\n",
       "    </tr>\n",
       "    <tr>\n",
       "      <th>7</th>\n",
       "      <td>March</td>\n",
       "      <td>1.642920e+08</td>\n",
       "    </tr>\n",
       "    <tr>\n",
       "      <th>8</th>\n",
       "      <td>May</td>\n",
       "      <td>2.122069e+08</td>\n",
       "    </tr>\n",
       "    <tr>\n",
       "      <th>9</th>\n",
       "      <td>November</td>\n",
       "      <td>2.311224e+08</td>\n",
       "    </tr>\n",
       "    <tr>\n",
       "      <th>10</th>\n",
       "      <td>October</td>\n",
       "      <td>7.088707e+06</td>\n",
       "    </tr>\n",
       "    <tr>\n",
       "      <th>11</th>\n",
       "      <td>September</td>\n",
       "      <td>1.180636e+08</td>\n",
       "    </tr>\n",
       "  </tbody>\n",
       "</table>\n",
       "</div>"
      ],
      "text/plain": [
       "        month  worldwide_gross_y\n",
       "0       April       9.921989e+07\n",
       "1      August       1.367628e+08\n",
       "2    December       2.436402e+08\n",
       "3    February       1.684843e+08\n",
       "4     January       1.442684e+08\n",
       "5        July       3.225204e+08\n",
       "6        June       2.219695e+08\n",
       "7       March       1.642920e+08\n",
       "8         May       2.122069e+08\n",
       "9    November       2.311224e+08\n",
       "10    October       7.088707e+06\n",
       "11  September       1.180636e+08"
      ]
     },
     "execution_count": 123,
     "metadata": {},
     "output_type": "execute_result"
    }
   ],
   "source": [
    "month_profit_df"
   ]
  },
  {
   "cell_type": "code",
   "execution_count": 148,
   "metadata": {},
   "outputs": [],
   "source": [
    "#groping by month and only dispalyong the profit column\n",
    "month_profit=movies_info_df.groupby('month',as_index=False)['profit'].median()"
   ]
  },
  {
   "cell_type": "code",
   "execution_count": 149,
   "metadata": {},
   "outputs": [
    {
     "data": {
      "text/html": [
       "<div>\n",
       "<style scoped>\n",
       "    .dataframe tbody tr th:only-of-type {\n",
       "        vertical-align: middle;\n",
       "    }\n",
       "\n",
       "    .dataframe tbody tr th {\n",
       "        vertical-align: top;\n",
       "    }\n",
       "\n",
       "    .dataframe thead th {\n",
       "        text-align: right;\n",
       "    }\n",
       "</style>\n",
       "<table border=\"1\" class=\"dataframe\">\n",
       "  <thead>\n",
       "    <tr style=\"text-align: right;\">\n",
       "      <th></th>\n",
       "      <th>month</th>\n",
       "      <th>profit</th>\n",
       "    </tr>\n",
       "  </thead>\n",
       "  <tbody>\n",
       "    <tr>\n",
       "      <th>0</th>\n",
       "      <td>April</td>\n",
       "      <td>27258419.5</td>\n",
       "    </tr>\n",
       "    <tr>\n",
       "      <th>1</th>\n",
       "      <td>August</td>\n",
       "      <td>69650253.0</td>\n",
       "    </tr>\n",
       "    <tr>\n",
       "      <th>2</th>\n",
       "      <td>December</td>\n",
       "      <td>202490682.0</td>\n",
       "    </tr>\n",
       "    <tr>\n",
       "      <th>3</th>\n",
       "      <td>February</td>\n",
       "      <td>76016627.5</td>\n",
       "    </tr>\n",
       "    <tr>\n",
       "      <th>4</th>\n",
       "      <td>January</td>\n",
       "      <td>81938091.0</td>\n",
       "    </tr>\n",
       "  </tbody>\n",
       "</table>\n",
       "</div>"
      ],
      "text/plain": [
       "      month       profit\n",
       "0     April   27258419.5\n",
       "1    August   69650253.0\n",
       "2  December  202490682.0\n",
       "3  February   76016627.5\n",
       "4   January   81938091.0"
      ]
     },
     "execution_count": 149,
     "metadata": {},
     "output_type": "execute_result"
    }
   ],
   "source": [
    "month_profit.head()"
   ]
  },
  {
   "cell_type": "code",
   "execution_count": 147,
   "metadata": {},
   "outputs": [
    {
     "data": {
      "image/png": "[encoded data removed]",
      "text/plain": [
       "<Figure size 1008x504 with 1 Axes>"
      ]
     },
     "metadata": {
      "needs_background": "light"
     },
     "output_type": "display_data"
    }
   ],
   "source": [
    "#seeing the month that makes the most money\n",
    "plt.figure(figsize=(14,7))\n",
    "ax=sns.barplot(y=month_profit_df['month'], x=month_profit_df['worldwide_gross_y'],palette='Purples',\n",
    "              order=['January','February','March','April','May','June','July','August','September',\n",
    "                    'October','November','December'])\n",
    "plt.xlabel('Month',fontsize=12)\n",
    "plt.ylabel('worldwide_gross_y',fontsize=12)\n",
    "plt.title('Month vs WorldWide gross',fontsize=14)\n",
    "plt.savefig('Month vs gross profit.png')"
   ]
  },
  {
   "cell_type": "code",
   "execution_count": 132,
   "metadata": {},
   "outputs": [
    {
     "data": {
      "image/png": "[encoded data removed]",
      "text/plain": [
       "<Figure size 1008x504 with 1 Axes>"
      ]
     },
     "metadata": {
      "needs_background": "light"
     },
     "output_type": "display_data"
    }
   ],
   "source": [
    "#checking the month that brings in the most profit\n",
    "plt.figure(figsize=(14,7))\n",
    "ax=sns.barplot(x=month_profit['month'], y=month_profit['profit'],palette='Greys',\n",
    "              order=['January','February','March','April','May','June','July','August','September',\n",
    "                    'October','November','December'])\n",
    "plt.xlabel('Month',fontsize=12)\n",
    "plt.ylabel('worldwide_gross_y',fontsize=12)\n",
    "plt.title('Month vs profit',fontsize=14)\n",
    "plt.savefig('Month vs profit.png')"
   ]
  },
  {
   "cell_type": "markdown",
   "metadata": {},
   "source": [
    "Producing movies in the Month of June,July,November,December has the most profit makes the most returns and \n",
    "so Microsoft should release many of their movies in those months."
   ]
  },
  {
   "cell_type": "markdown",
   "metadata": {},
   "source": [
    "# Recommendations"
   ]
  },
  {
   "cell_type": "markdown",
   "metadata": {},
   "source": [
    "## First recommendation"
   ]
  },
  {
   "cell_type": "markdown",
   "metadata": {},
   "source": [
    "I recommend Microsoft to look into producing drama related movies with comedy,Action,mystery and suspense because\n",
    "apart from being the most produced genres,they are also very profitable."
   ]
  },
  {
   "cell_type": "markdown",
   "metadata": {},
   "source": [
    "## Second recommendation"
   ]
  },
  {
   "cell_type": "markdown",
   "metadata": {},
   "source": [
    "From my analysis,R-Rated movies and PG-13 rated movies make the most profit as compared to G and NR movies.\n",
    "Microsoft should consider the rating of the movie depending on the target market because they make the most\n",
    "profit.\n",
    "I recommend PG-13 and R rated movies because they make the highest returns."
   ]
  },
  {
   "cell_type": "markdown",
   "metadata": {},
   "source": [
    "## Third recommendation"
   ]
  },
  {
   "cell_type": "markdown",
   "metadata": {},
   "source": [
    "Producing movies in the Month of June,July,November,December has the most profit or the highest returns and \n",
    "so Microsoft should release many of their movies in those months."
   ]
  },
  {
   "cell_type": "markdown",
   "metadata": {},
   "source": [
    "## Important to note"
   ]
  },
  {
   "cell_type": "markdown",
   "metadata": {},
   "source": [
    "The most profitable genres are also the most according to my analysis expensive to produce.Microsoft to keep this in mind."
   ]
  },
  {
   "cell_type": "code",
   "execution_count": null,
   "metadata": {},
   "outputs": [],
   "source": []
  }
 ],
 "metadata": {
  "kernelspec": {
   "display_name": "Python (learn-env)",
   "language": "python",
   "name": "learn-env"
  },
  "language_info": {
   "codemirror_mode": {
    "name": "ipython",
    "version": 3
   },
   "file_extension": ".py",
   "mimetype": "text/x-python",
   "name": "python",
   "nbconvert_exporter": "python",
   "pygments_lexer": "ipython3",
   "version": "3.8.5"
  },
  "toc": {
   "base_numbering": 1,
   "nav_menu": {},
   "number_sections": true,
   "sideBar": true,
   "skip_h1_title": false,
   "title_cell": "Table of Contents",
   "title_sidebar": "Contents",
   "toc_cell": true,
   "toc_position": {},
   "toc_section_display": true,
   "toc_window_display": false
  }
 },
 "nbformat": 4,
 "nbformat_minor": 4
}
